{
 "cells": [
  {
   "cell_type": "code",
   "execution_count": null,
   "metadata": {},
   "outputs": [],
   "source": [
    "# import autoreload\n",
    "# ?autoreload\n",
    "%load_ext autoreload\n",
    "%autoreload 2"
   ]
  },
  {
   "cell_type": "code",
   "execution_count": null,
   "metadata": {},
   "outputs": [],
   "source": [
    "from RNN import SimpleRNN\n",
    "import torch\n",
    "import torch.nn as nn\n",
    "import torch.optim as optim\n",
    "import torch.nn.functional as F\n",
    "import numpy as np\n",
    "import pandas as pd\n",
    "from datetime import datetime\n",
    "from sklearn.model_selection import train_test_split"
   ]
  },
  {
   "cell_type": "code",
   "execution_count": null,
   "metadata": {},
   "outputs": [],
   "source": [
    "bid_data = pd.read_csv('dataset/EURCAD_Candlestick_1_M_BID_01.01.2019-07.11.2020.csv')\n",
    "ask_data = pd.read_csv('dataset/EURCAD_Candlestick_1_M_ASK_01.01.2019-07.11.2020.csv')\n",
    "\n",
    "bid_data.columns = bid_data.columns + '_bid'\n",
    "bid_data = bid_data.rename(columns={'Gmt time_bid': 'Gmt time'})\n",
    "\n",
    "ask_data.columns = ask_data.columns + '_ask'\n",
    "ask_data = ask_data.rename(columns={'Gmt time_ask': 'Gmt time'})\n",
    "data = ask_data.join(bid_data.drop('Gmt time', axis=1))\n",
    "data.head()"
   ]
  },
  {
   "cell_type": "code",
   "execution_count": null,
   "metadata": {},
   "outputs": [],
   "source": [
    "def extract_datetime(dtime):\n",
    "  \"\"\"\n",
    "   receives a timestamp and returns \n",
    "   day in the week,\n",
    "   year, month,  \n",
    "  \"\"\"\n",
    "  d, t = dtime.split(' ')\n",
    "  ds = np.array(d.split('.'), dtype=int)[::-1]\n",
    "  ts = np.array(t.split(':'), dtype=float)\n",
    "  date = datetime(ds[0], ds[1], ds[2])\n",
    "\n",
    "  return date.weekday(), ds[0], ds[1], ds[2], ts[0], ts[1], ts[2]\n",
    "  \n",
    "extract_datetime(bid_data['Gmt time'][970000])"
   ]
  },
  {
   "cell_type": "code",
   "execution_count": null,
   "metadata": {},
   "outputs": [],
   "source": [
    "expanded_datetime_columns = ['weekday', 'year', 'month', 'day', 'hour', 'minute', 'second']\n",
    "expanded_datetime = np.array([extract_datetime(x) for x in data['Gmt time']], dtype=int)\n",
    "\n",
    "\n",
    "data = data.drop('Gmt time', axis=1,)\n",
    "data = pd.DataFrame(expanded_datetime, columns=expanded_datetime_columns).join(data)\n",
    "data.head()"
   ]
  },
  {
   "cell_type": "code",
   "execution_count": null,
   "metadata": {},
   "outputs": [],
   "source": [
    "data.size"
   ]
  },
  {
   "cell_type": "code",
   "execution_count": null,
   "metadata": {},
   "outputs": [],
   "source": [
    "time_window = 10\n",
    "label = 'Close_ask'\n",
    "\n",
    "\n",
    "def create_sequence(data, label, time_window):\n",
    "    time_window = 10\n",
    "    label = 'Close_ask'\n",
    "\n",
    "    size = int(data.shape[0] / time_window) + data.size % time_window\n",
    "\n",
    "    dataset = np.zeros((size, 10))\n",
    "\n",
    "    counter = 0\n",
    "    for i in range(time_window, data.shape[0], time_window):\n",
    "        dataset[counter] = (data[label].values[i - time_window: i])\n",
    "        counter += 1\n",
    "    \n",
    "    return dataset\n",
    "\n",
    "dataset = create_sequence(data, label, time_window)\n",
    "dataset.shape"
   ]
  },
  {
   "cell_type": "code",
   "execution_count": null,
   "metadata": {},
   "outputs": [],
   "source": [
    "X = dataset[:, :time_window-1]\n",
    "y = dataset[:, 0]\n",
    "\n",
    "print('X shape: {}, y shape: {}'.format(X.shape, y.shape))"
   ]
  },
  {
   "cell_type": "code",
   "execution_count": null,
   "metadata": {},
   "outputs": [],
   "source": [
    "X_train, X_test, y_train, y_test = train_test_split(X, y, test_size=0.3, random_state=42)\n",
    "print('train size: {}, test size: {}'.format(X_train.shape, X_test.shape))"
   ]
  },
  {
   "cell_type": "code",
   "execution_count": null,
   "metadata": {},
   "outputs": [],
   "source": [
    "X_train = torch.from_numpy(X_train)\n",
    "y_train = torch.from_numpy(y_train)\n",
    "\n",
    "X_train"
   ]
  },
  {
   "cell_type": "code",
   "execution_count": null,
   "metadata": {},
   "outputs": [],
   "source": [
    "from RNN import SimpleRNN\n",
    "\n",
    "torch.backends.cudnn.enabled = False\n",
    "input_size = 1\n",
    "seq_length = 9\n",
    "num_layers = 2\n",
    "hidden_size = 256\n",
    "learning_rate = 0.001\n",
    "num_epochs = 10"
   ]
  },
  {
   "cell_type": "code",
   "execution_count": null,
   "metadata": {},
   "outputs": [],
   "source": [
    "model = SimpleRNN(input_size, hidden_size, seq_length, num_layers)\n",
    "critirion = nn.MSELoss()\n",
    "optimizer = optim.Adam(model.parameters(), lr=learning_rate)"
   ]
  },
  {
   "cell_type": "code",
   "execution_count": null,
   "metadata": {},
   "outputs": [],
   "source": [
    "for epoch in range(num_epochs):\n",
    "    for i in range(X_train.shape[0]):\n",
    "        optimizer.zero_grad()\n",
    "\n",
    "        scores = model(X_train[i].view(seq_length, 1, -1))\n",
    "        loss = critirion(scores, y_train[i])\n",
    "\n",
    "        loss.backward()\n",
    "\n",
    "        optimizer.step()\n",
    "        \n",
    "    \n",
    "    print(f'epoch: {epoch:3} loss: {loss.item():10.8f}')"
   ]
  },
  {
   "cell_type": "code",
   "execution_count": null,
   "metadata": {},
   "outputs": [],
   "source": []
  },
  {
   "cell_type": "code",
   "execution_count": null,
   "metadata": {},
   "outputs": [],
   "source": []
  }
 ],
 "metadata": {
  "kernelspec": {
   "display_name": "Python 3",
   "language": "python",
   "name": "python3"
  },
  "language_info": {
   "codemirror_mode": {
    "name": "ipython",
    "version": 3
   },
   "file_extension": ".py",
   "mimetype": "text/x-python",
   "name": "python",
   "nbconvert_exporter": "python",
   "pygments_lexer": "ipython3",
   "version": "3.8.3"
  }
 },
 "nbformat": 4,
 "nbformat_minor": 4
}