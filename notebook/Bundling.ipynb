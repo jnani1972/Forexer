{
 "cells": [
  {
   "cell_type": "code",
   "execution_count": 144,
   "metadata": {},
   "outputs": [
    {
     "name": "stdout",
     "output_type": "stream",
     "text": [
      "The autoreload extension is already loaded. To reload it, use:\n",
      "  %reload_ext autoreload\n"
     ]
    }
   ],
   "source": [
    "# import autoreload\n",
    "# ?autoreload\n",
    "%load_ext autoreload\n",
    "%autoreload 2"
   ]
  },
  {
   "cell_type": "code",
   "execution_count": 145,
   "metadata": {},
   "outputs": [],
   "source": [
    "from RNN import SimpleRNN\n",
    "import torch\n",
    "import torch.nn as nn\n",
    "import torch.optim as optim\n",
    "import torch.nn.functional as F\n",
    "import numpy as np\n",
    "import pandas as pd\n",
    "from datetime import datetime\n",
    "from sklearn.model_selection import train_test_split"
   ]
  },
  {
   "cell_type": "code",
   "execution_count": 2,
   "metadata": {},
   "outputs": [
    {
     "data": {
      "text/html": [
       "<div>\n",
       "<style scoped>\n",
       "    .dataframe tbody tr th:only-of-type {\n",
       "        vertical-align: middle;\n",
       "    }\n",
       "\n",
       "    .dataframe tbody tr th {\n",
       "        vertical-align: top;\n",
       "    }\n",
       "\n",
       "    .dataframe thead th {\n",
       "        text-align: right;\n",
       "    }\n",
       "</style>\n",
       "<table border=\"1\" class=\"dataframe\">\n",
       "  <thead>\n",
       "    <tr style=\"text-align: right;\">\n",
       "      <th></th>\n",
       "      <th>Gmt time</th>\n",
       "      <th>Open_ask</th>\n",
       "      <th>High_ask</th>\n",
       "      <th>Low_ask</th>\n",
       "      <th>Close_ask</th>\n",
       "      <th>Volume_ask</th>\n",
       "      <th>Open_bid</th>\n",
       "      <th>High_bid</th>\n",
       "      <th>Low_bid</th>\n",
       "      <th>Close_bid</th>\n",
       "      <th>Volume_bid</th>\n",
       "    </tr>\n",
       "  </thead>\n",
       "  <tbody>\n",
       "    <tr>\n",
       "      <th>0</th>\n",
       "      <td>01.01.2019 00:00:00.000</td>\n",
       "      <td>1.56465</td>\n",
       "      <td>1.56465</td>\n",
       "      <td>1.56465</td>\n",
       "      <td>1.56465</td>\n",
       "      <td>0.0</td>\n",
       "      <td>1.56259</td>\n",
       "      <td>1.56259</td>\n",
       "      <td>1.56259</td>\n",
       "      <td>1.56259</td>\n",
       "      <td>0.0</td>\n",
       "    </tr>\n",
       "    <tr>\n",
       "      <th>1</th>\n",
       "      <td>01.01.2019 00:01:00.000</td>\n",
       "      <td>1.56465</td>\n",
       "      <td>1.56465</td>\n",
       "      <td>1.56465</td>\n",
       "      <td>1.56465</td>\n",
       "      <td>0.0</td>\n",
       "      <td>1.56259</td>\n",
       "      <td>1.56259</td>\n",
       "      <td>1.56259</td>\n",
       "      <td>1.56259</td>\n",
       "      <td>0.0</td>\n",
       "    </tr>\n",
       "    <tr>\n",
       "      <th>2</th>\n",
       "      <td>01.01.2019 00:02:00.000</td>\n",
       "      <td>1.56465</td>\n",
       "      <td>1.56465</td>\n",
       "      <td>1.56465</td>\n",
       "      <td>1.56465</td>\n",
       "      <td>0.0</td>\n",
       "      <td>1.56259</td>\n",
       "      <td>1.56259</td>\n",
       "      <td>1.56259</td>\n",
       "      <td>1.56259</td>\n",
       "      <td>0.0</td>\n",
       "    </tr>\n",
       "    <tr>\n",
       "      <th>3</th>\n",
       "      <td>01.01.2019 00:03:00.000</td>\n",
       "      <td>1.56465</td>\n",
       "      <td>1.56465</td>\n",
       "      <td>1.56465</td>\n",
       "      <td>1.56465</td>\n",
       "      <td>0.0</td>\n",
       "      <td>1.56259</td>\n",
       "      <td>1.56259</td>\n",
       "      <td>1.56259</td>\n",
       "      <td>1.56259</td>\n",
       "      <td>0.0</td>\n",
       "    </tr>\n",
       "    <tr>\n",
       "      <th>4</th>\n",
       "      <td>01.01.2019 00:04:00.000</td>\n",
       "      <td>1.56465</td>\n",
       "      <td>1.56465</td>\n",
       "      <td>1.56465</td>\n",
       "      <td>1.56465</td>\n",
       "      <td>0.0</td>\n",
       "      <td>1.56259</td>\n",
       "      <td>1.56259</td>\n",
       "      <td>1.56259</td>\n",
       "      <td>1.56259</td>\n",
       "      <td>0.0</td>\n",
       "    </tr>\n",
       "  </tbody>\n",
       "</table>\n",
       "</div>"
      ],
      "text/plain": [
       "                  Gmt time  Open_ask  High_ask  Low_ask  Close_ask  \\\n",
       "0  01.01.2019 00:00:00.000   1.56465   1.56465  1.56465    1.56465   \n",
       "1  01.01.2019 00:01:00.000   1.56465   1.56465  1.56465    1.56465   \n",
       "2  01.01.2019 00:02:00.000   1.56465   1.56465  1.56465    1.56465   \n",
       "3  01.01.2019 00:03:00.000   1.56465   1.56465  1.56465    1.56465   \n",
       "4  01.01.2019 00:04:00.000   1.56465   1.56465  1.56465    1.56465   \n",
       "\n",
       "   Volume_ask  Open_bid  High_bid  Low_bid  Close_bid  Volume_bid  \n",
       "0         0.0   1.56259   1.56259  1.56259    1.56259         0.0  \n",
       "1         0.0   1.56259   1.56259  1.56259    1.56259         0.0  \n",
       "2         0.0   1.56259   1.56259  1.56259    1.56259         0.0  \n",
       "3         0.0   1.56259   1.56259  1.56259    1.56259         0.0  \n",
       "4         0.0   1.56259   1.56259  1.56259    1.56259         0.0  "
      ]
     },
     "execution_count": 2,
     "metadata": {},
     "output_type": "execute_result"
    }
   ],
   "source": [
    "bid_data = pd.read_csv('dataset/EURCAD_Candlestick_1_M_BID_01.01.2019-07.11.2020.csv')\n",
    "ask_data = pd.read_csv('dataset/EURCAD_Candlestick_1_M_ASK_01.01.2019-07.11.2020.csv')\n",
    "\n",
    "bid_data.columns = bid_data.columns + '_bid'\n",
    "bid_data = bid_data.rename(columns={'Gmt time_bid': 'Gmt time'})\n",
    "\n",
    "ask_data.columns = ask_data.columns + '_ask'\n",
    "ask_data = ask_data.rename(columns={'Gmt time_ask': 'Gmt time'})\n",
    "data = ask_data.join(bid_data.drop('Gmt time', axis=1))\n",
    "data.head()"
   ]
  },
  {
   "cell_type": "code",
   "execution_count": 3,
   "metadata": {},
   "outputs": [
    {
     "data": {
      "text/plain": [
       "(2, 2020, 11, 4, 14.0, 40.0, 0.0)"
      ]
     },
     "execution_count": 3,
     "metadata": {},
     "output_type": "execute_result"
    }
   ],
   "source": [
    "def extract_datetime(dtime):\n",
    "  \"\"\"\n",
    "   receives a timestamp and returns \n",
    "   day in the week,\n",
    "   year, month,  \n",
    "  \"\"\"\n",
    "  d, t = dtime.split(' ')\n",
    "  ds = np.array(d.split('.'), dtype=int)[::-1]\n",
    "  ts = np.array(t.split(':'), dtype=float)\n",
    "  date = datetime(ds[0], ds[1], ds[2])\n",
    "\n",
    "  return date.weekday(), ds[0], ds[1], ds[2], ts[0], ts[1], ts[2]\n",
    "  \n",
    "extract_datetime(bid_data['Gmt time'][970000])"
   ]
  },
  {
   "cell_type": "code",
   "execution_count": 4,
   "metadata": {},
   "outputs": [
    {
     "data": {
      "text/html": [
       "<div>\n",
       "<style scoped>\n",
       "    .dataframe tbody tr th:only-of-type {\n",
       "        vertical-align: middle;\n",
       "    }\n",
       "\n",
       "    .dataframe tbody tr th {\n",
       "        vertical-align: top;\n",
       "    }\n",
       "\n",
       "    .dataframe thead th {\n",
       "        text-align: right;\n",
       "    }\n",
       "</style>\n",
       "<table border=\"1\" class=\"dataframe\">\n",
       "  <thead>\n",
       "    <tr style=\"text-align: right;\">\n",
       "      <th></th>\n",
       "      <th>weekday</th>\n",
       "      <th>year</th>\n",
       "      <th>month</th>\n",
       "      <th>day</th>\n",
       "      <th>hour</th>\n",
       "      <th>minute</th>\n",
       "      <th>second</th>\n",
       "      <th>Open_ask</th>\n",
       "      <th>High_ask</th>\n",
       "      <th>Low_ask</th>\n",
       "      <th>Close_ask</th>\n",
       "      <th>Volume_ask</th>\n",
       "      <th>Open_bid</th>\n",
       "      <th>High_bid</th>\n",
       "      <th>Low_bid</th>\n",
       "      <th>Close_bid</th>\n",
       "      <th>Volume_bid</th>\n",
       "    </tr>\n",
       "  </thead>\n",
       "  <tbody>\n",
       "    <tr>\n",
       "      <th>0</th>\n",
       "      <td>1</td>\n",
       "      <td>2019</td>\n",
       "      <td>1</td>\n",
       "      <td>1</td>\n",
       "      <td>0</td>\n",
       "      <td>0</td>\n",
       "      <td>0</td>\n",
       "      <td>1.56465</td>\n",
       "      <td>1.56465</td>\n",
       "      <td>1.56465</td>\n",
       "      <td>1.56465</td>\n",
       "      <td>0.0</td>\n",
       "      <td>1.56259</td>\n",
       "      <td>1.56259</td>\n",
       "      <td>1.56259</td>\n",
       "      <td>1.56259</td>\n",
       "      <td>0.0</td>\n",
       "    </tr>\n",
       "    <tr>\n",
       "      <th>1</th>\n",
       "      <td>1</td>\n",
       "      <td>2019</td>\n",
       "      <td>1</td>\n",
       "      <td>1</td>\n",
       "      <td>0</td>\n",
       "      <td>1</td>\n",
       "      <td>0</td>\n",
       "      <td>1.56465</td>\n",
       "      <td>1.56465</td>\n",
       "      <td>1.56465</td>\n",
       "      <td>1.56465</td>\n",
       "      <td>0.0</td>\n",
       "      <td>1.56259</td>\n",
       "      <td>1.56259</td>\n",
       "      <td>1.56259</td>\n",
       "      <td>1.56259</td>\n",
       "      <td>0.0</td>\n",
       "    </tr>\n",
       "    <tr>\n",
       "      <th>2</th>\n",
       "      <td>1</td>\n",
       "      <td>2019</td>\n",
       "      <td>1</td>\n",
       "      <td>1</td>\n",
       "      <td>0</td>\n",
       "      <td>2</td>\n",
       "      <td>0</td>\n",
       "      <td>1.56465</td>\n",
       "      <td>1.56465</td>\n",
       "      <td>1.56465</td>\n",
       "      <td>1.56465</td>\n",
       "      <td>0.0</td>\n",
       "      <td>1.56259</td>\n",
       "      <td>1.56259</td>\n",
       "      <td>1.56259</td>\n",
       "      <td>1.56259</td>\n",
       "      <td>0.0</td>\n",
       "    </tr>\n",
       "    <tr>\n",
       "      <th>3</th>\n",
       "      <td>1</td>\n",
       "      <td>2019</td>\n",
       "      <td>1</td>\n",
       "      <td>1</td>\n",
       "      <td>0</td>\n",
       "      <td>3</td>\n",
       "      <td>0</td>\n",
       "      <td>1.56465</td>\n",
       "      <td>1.56465</td>\n",
       "      <td>1.56465</td>\n",
       "      <td>1.56465</td>\n",
       "      <td>0.0</td>\n",
       "      <td>1.56259</td>\n",
       "      <td>1.56259</td>\n",
       "      <td>1.56259</td>\n",
       "      <td>1.56259</td>\n",
       "      <td>0.0</td>\n",
       "    </tr>\n",
       "    <tr>\n",
       "      <th>4</th>\n",
       "      <td>1</td>\n",
       "      <td>2019</td>\n",
       "      <td>1</td>\n",
       "      <td>1</td>\n",
       "      <td>0</td>\n",
       "      <td>4</td>\n",
       "      <td>0</td>\n",
       "      <td>1.56465</td>\n",
       "      <td>1.56465</td>\n",
       "      <td>1.56465</td>\n",
       "      <td>1.56465</td>\n",
       "      <td>0.0</td>\n",
       "      <td>1.56259</td>\n",
       "      <td>1.56259</td>\n",
       "      <td>1.56259</td>\n",
       "      <td>1.56259</td>\n",
       "      <td>0.0</td>\n",
       "    </tr>\n",
       "  </tbody>\n",
       "</table>\n",
       "</div>"
      ],
      "text/plain": [
       "   weekday  year  month  day  hour  minute  second  Open_ask  High_ask  \\\n",
       "0        1  2019      1    1     0       0       0   1.56465   1.56465   \n",
       "1        1  2019      1    1     0       1       0   1.56465   1.56465   \n",
       "2        1  2019      1    1     0       2       0   1.56465   1.56465   \n",
       "3        1  2019      1    1     0       3       0   1.56465   1.56465   \n",
       "4        1  2019      1    1     0       4       0   1.56465   1.56465   \n",
       "\n",
       "   Low_ask  Close_ask  Volume_ask  Open_bid  High_bid  Low_bid  Close_bid  \\\n",
       "0  1.56465    1.56465         0.0   1.56259   1.56259  1.56259    1.56259   \n",
       "1  1.56465    1.56465         0.0   1.56259   1.56259  1.56259    1.56259   \n",
       "2  1.56465    1.56465         0.0   1.56259   1.56259  1.56259    1.56259   \n",
       "3  1.56465    1.56465         0.0   1.56259   1.56259  1.56259    1.56259   \n",
       "4  1.56465    1.56465         0.0   1.56259   1.56259  1.56259    1.56259   \n",
       "\n",
       "   Volume_bid  \n",
       "0         0.0  \n",
       "1         0.0  \n",
       "2         0.0  \n",
       "3         0.0  \n",
       "4         0.0  "
      ]
     },
     "execution_count": 4,
     "metadata": {},
     "output_type": "execute_result"
    }
   ],
   "source": [
    "expanded_datetime_columns = ['weekday', 'year', 'month', 'day', 'hour', 'minute', 'second']\n",
    "expanded_datetime = np.array([extract_datetime(x) for x in data['Gmt time']], dtype=int)\n",
    "\n",
    "\n",
    "data = data.drop('Gmt time', axis=1,)\n",
    "data = pd.DataFrame(expanded_datetime, columns=expanded_datetime_columns).join(data)\n",
    "data.head()"
   ]
  },
  {
   "cell_type": "code",
   "execution_count": 15,
   "metadata": {},
   "outputs": [
    {
     "data": {
      "text/plain": [
       "16572960"
      ]
     },
     "execution_count": 15,
     "metadata": {},
     "output_type": "execute_result"
    }
   ],
   "source": [
    "data.size"
   ]
  },
  {
   "cell_type": "code",
   "execution_count": 124,
   "metadata": {},
   "outputs": [
    {
     "data": {
      "text/plain": [
       "(97488, 10)"
      ]
     },
     "execution_count": 124,
     "metadata": {},
     "output_type": "execute_result"
    }
   ],
   "source": [
    "time_window = 10\n",
    "label = 'Close_ask'\n",
    "\n",
    "\n",
    "def create_sequence(data, label, time_window):\n",
    "    time_window = 10\n",
    "    label = 'Close_ask'\n",
    "\n",
    "    size = int(data.shape[0] / time_window) + data.size % time_window\n",
    "\n",
    "    dataset = np.zeros((size, 10))\n",
    "\n",
    "    counter = 0\n",
    "    for i in range(time_window, data.shape[0], time_window):\n",
    "        dataset[counter] = (data[label].values[i - time_window: i])\n",
    "        counter += 1\n",
    "    \n",
    "    return dataset\n",
    "\n",
    "dataset = create_sequence(data, label, time_window)\n",
    "dataset.shape"
   ]
  },
  {
   "cell_type": "code",
   "execution_count": 127,
   "metadata": {},
   "outputs": [
    {
     "name": "stdout",
     "output_type": "stream",
     "text": [
      "X shape: (97488, 9), y shape: (97488,)\n"
     ]
    }
   ],
   "source": [
    "X = dataset[:, :time_window-1]\n",
    "y = dataset[:, 0]\n",
    "\n",
    "print('X shape: {}, y shape: {}'.format(X.shape, y.shape))"
   ]
  },
  {
   "cell_type": "code",
   "execution_count": 128,
   "metadata": {},
   "outputs": [
    {
     "name": "stdout",
     "output_type": "stream",
     "text": [
      "train size: (68241, 9), test size: (29247, 9)\n"
     ]
    }
   ],
   "source": [
    "X_train, X_test, y_train, y_test = train_test_split(X, y, test_size=0.3, random_state=42)\n",
    "print('train size: {}, test size: {}'.format(X_train.shape, X_test.shape))"
   ]
  },
  {
   "cell_type": "code",
   "execution_count": 129,
   "metadata": {},
   "outputs": [
    {
     "data": {
      "text/plain": [
       "tensor([[1.5069, 1.5069, 1.5069,  ..., 1.5069, 1.5069, 1.5069],\n",
       "        [1.5811, 1.5813, 1.5811,  ..., 1.5811, 1.5812, 1.5810],\n",
       "        [1.4498, 1.4497, 1.4497,  ..., 1.4494, 1.4493, 1.4493],\n",
       "        ...,\n",
       "        [1.5216, 1.5216, 1.5219,  ..., 1.5223, 1.5219, 1.5215],\n",
       "        [1.5265, 1.5265, 1.5263,  ..., 1.5260, 1.5258, 1.5259],\n",
       "        [1.5069, 1.5069, 1.5069,  ..., 1.5069, 1.5069, 1.5069]],\n",
       "       dtype=torch.float64)"
      ]
     },
     "execution_count": 129,
     "metadata": {},
     "output_type": "execute_result"
    }
   ],
   "source": [
    "X_train = torch.from_numpy(X_train)\n",
    "y_train = torch.from_numpy(y_train)\n",
    "\n",
    "X_train"
   ]
  },
  {
   "cell_type": "code",
   "execution_count": 160,
   "metadata": {},
   "outputs": [],
   "source": [
    "from RNN import SimpleRNN\n",
    "\n",
    "torch.backends.cudnn.enabled = False\n",
    "input_size = 1\n",
    "seq_length = 9\n",
    "num_layers = 2\n",
    "hidden_size = 256\n",
    "learning_rate = 0.001\n",
    "num_epochs = 10"
   ]
  },
  {
   "cell_type": "code",
   "execution_count": 161,
   "metadata": {},
   "outputs": [],
   "source": [
    "model = SimpleRNN(input_size, hidden_size, seq_length, num_layers)\n",
    "critirion = nn.MSELoss()\n",
    "optimizer = optim.Adam(model.parameters(), lr=learning_rate)"
   ]
  },
  {
   "cell_type": "code",
   "execution_count": 162,
   "metadata": {},
   "outputs": [
    {
     "ename": "RuntimeError",
     "evalue": "CUDA error: unspecified launch failure",
     "output_type": "error",
     "traceback": [
      "\u001b[0;31m---------------------------------------------------------------------------\u001b[0m",
      "\u001b[0;31mRuntimeError\u001b[0m                              Traceback (most recent call last)",
      "\u001b[0;32m<ipython-input-162-e6bb101ff6ff>\u001b[0m in \u001b[0;36m<module>\u001b[0;34m\u001b[0m\n\u001b[1;32m      3\u001b[0m         \u001b[0moptimizer\u001b[0m\u001b[0;34m.\u001b[0m\u001b[0mzero_grad\u001b[0m\u001b[0;34m(\u001b[0m\u001b[0;34m)\u001b[0m\u001b[0;34m\u001b[0m\u001b[0;34m\u001b[0m\u001b[0m\n\u001b[1;32m      4\u001b[0m \u001b[0;34m\u001b[0m\u001b[0m\n\u001b[0;32m----> 5\u001b[0;31m         \u001b[0mscores\u001b[0m \u001b[0;34m=\u001b[0m \u001b[0mmodel\u001b[0m\u001b[0;34m(\u001b[0m\u001b[0mX_train\u001b[0m\u001b[0;34m[\u001b[0m\u001b[0mi\u001b[0m\u001b[0;34m]\u001b[0m\u001b[0;34m.\u001b[0m\u001b[0mview\u001b[0m\u001b[0;34m(\u001b[0m\u001b[0mseq_length\u001b[0m\u001b[0;34m,\u001b[0m \u001b[0;36m1\u001b[0m\u001b[0;34m,\u001b[0m \u001b[0;34m-\u001b[0m\u001b[0;36m1\u001b[0m\u001b[0;34m)\u001b[0m\u001b[0;34m)\u001b[0m\u001b[0;34m\u001b[0m\u001b[0;34m\u001b[0m\u001b[0m\n\u001b[0m\u001b[1;32m      6\u001b[0m         \u001b[0mloss\u001b[0m \u001b[0;34m=\u001b[0m \u001b[0mcritirion\u001b[0m\u001b[0;34m(\u001b[0m\u001b[0mscores\u001b[0m\u001b[0;34m,\u001b[0m \u001b[0my_train\u001b[0m\u001b[0;34m[\u001b[0m\u001b[0mi\u001b[0m\u001b[0;34m]\u001b[0m\u001b[0;34m)\u001b[0m\u001b[0;34m\u001b[0m\u001b[0;34m\u001b[0m\u001b[0m\n\u001b[1;32m      7\u001b[0m \u001b[0;34m\u001b[0m\u001b[0m\n",
      "\u001b[0;32m~/anaconda3/lib/python3.8/site-packages/torch/nn/modules/module.py\u001b[0m in \u001b[0;36m_call_impl\u001b[0;34m(self, *input, **kwargs)\u001b[0m\n\u001b[1;32m    720\u001b[0m             \u001b[0mresult\u001b[0m \u001b[0;34m=\u001b[0m \u001b[0mself\u001b[0m\u001b[0;34m.\u001b[0m\u001b[0m_slow_forward\u001b[0m\u001b[0;34m(\u001b[0m\u001b[0;34m*\u001b[0m\u001b[0minput\u001b[0m\u001b[0;34m,\u001b[0m \u001b[0;34m**\u001b[0m\u001b[0mkwargs\u001b[0m\u001b[0;34m)\u001b[0m\u001b[0;34m\u001b[0m\u001b[0;34m\u001b[0m\u001b[0m\n\u001b[1;32m    721\u001b[0m         \u001b[0;32melse\u001b[0m\u001b[0;34m:\u001b[0m\u001b[0;34m\u001b[0m\u001b[0;34m\u001b[0m\u001b[0m\n\u001b[0;32m--> 722\u001b[0;31m             \u001b[0mresult\u001b[0m \u001b[0;34m=\u001b[0m \u001b[0mself\u001b[0m\u001b[0;34m.\u001b[0m\u001b[0mforward\u001b[0m\u001b[0;34m(\u001b[0m\u001b[0;34m*\u001b[0m\u001b[0minput\u001b[0m\u001b[0;34m,\u001b[0m \u001b[0;34m**\u001b[0m\u001b[0mkwargs\u001b[0m\u001b[0;34m)\u001b[0m\u001b[0;34m\u001b[0m\u001b[0;34m\u001b[0m\u001b[0m\n\u001b[0m\u001b[1;32m    723\u001b[0m         for hook in itertools.chain(\n\u001b[1;32m    724\u001b[0m                 \u001b[0m_global_forward_hooks\u001b[0m\u001b[0;34m.\u001b[0m\u001b[0mvalues\u001b[0m\u001b[0;34m(\u001b[0m\u001b[0;34m)\u001b[0m\u001b[0;34m,\u001b[0m\u001b[0;34m\u001b[0m\u001b[0;34m\u001b[0m\u001b[0m\n",
      "\u001b[0;32m/mnt/240BCADA758C30EE/MyStuff/Projects/Python/MachineLearning/ForexPredict/RNN.py\u001b[0m in \u001b[0;36mforward\u001b[0;34m(self, x)\u001b[0m\n\u001b[1;32m     25\u001b[0m     \u001b[0;32mdef\u001b[0m \u001b[0mforward\u001b[0m\u001b[0;34m(\u001b[0m\u001b[0mself\u001b[0m\u001b[0;34m,\u001b[0m \u001b[0mx\u001b[0m\u001b[0;34m)\u001b[0m\u001b[0;34m:\u001b[0m\u001b[0;34m\u001b[0m\u001b[0;34m\u001b[0m\u001b[0m\n\u001b[1;32m     26\u001b[0m \u001b[0;34m\u001b[0m\u001b[0m\n\u001b[0;32m---> 27\u001b[0;31m         \u001b[0mh0\u001b[0m \u001b[0;34m=\u001b[0m \u001b[0mtorch\u001b[0m\u001b[0;34m.\u001b[0m\u001b[0mzeros\u001b[0m\u001b[0;34m(\u001b[0m\u001b[0mself\u001b[0m\u001b[0;34m.\u001b[0m\u001b[0mnum_layers\u001b[0m\u001b[0;34m,\u001b[0m \u001b[0minput_size\u001b[0m\u001b[0;34m,\u001b[0m \u001b[0mself\u001b[0m\u001b[0;34m.\u001b[0m\u001b[0mhidden_size\u001b[0m\u001b[0;34m)\u001b[0m\u001b[0;34m.\u001b[0m\u001b[0mto\u001b[0m\u001b[0;34m(\u001b[0m\u001b[0mdevice\u001b[0m\u001b[0;34m)\u001b[0m\u001b[0;34m\u001b[0m\u001b[0;34m\u001b[0m\u001b[0m\n\u001b[0m\u001b[1;32m     28\u001b[0m         \u001b[0mout\u001b[0m\u001b[0;34m,\u001b[0m \u001b[0m_\u001b[0m \u001b[0;34m=\u001b[0m \u001b[0mself\u001b[0m\u001b[0;34m.\u001b[0m\u001b[0mrnn\u001b[0m\u001b[0;34m(\u001b[0m\u001b[0mx\u001b[0m\u001b[0;34m,\u001b[0m \u001b[0mh0\u001b[0m\u001b[0;34m)\u001b[0m\u001b[0;34m\u001b[0m\u001b[0;34m\u001b[0m\u001b[0m\n\u001b[1;32m     29\u001b[0m         \u001b[0mout\u001b[0m \u001b[0;34m=\u001b[0m \u001b[0mout\u001b[0m\u001b[0;34m.\u001b[0m\u001b[0mreshape\u001b[0m\u001b[0;34m(\u001b[0m\u001b[0minput_size\u001b[0m\u001b[0;34m,\u001b[0m \u001b[0;34m-\u001b[0m\u001b[0;36m1\u001b[0m\u001b[0;34m)\u001b[0m\u001b[0;34m\u001b[0m\u001b[0;34m\u001b[0m\u001b[0m\n",
      "\u001b[0;31mRuntimeError\u001b[0m: CUDA error: unspecified launch failure"
     ]
    }
   ],
   "source": [
    "for epoch in range(num_epochs):\n",
    "    for i in range(X_train.shape[0]):\n",
    "        optimizer.zero_grad()\n",
    "\n",
    "        scores = model(X_train[i].view(seq_length, 1, -1))\n",
    "        loss = critirion(scores, y_train[i])\n",
    "\n",
    "        loss.backward()\n",
    "\n",
    "        optimizer.step()\n",
    "        \n",
    "    \n",
    "    print(f'epoch: {epoch:3} loss: {loss.item():10.8f}')"
   ]
  },
  {
   "cell_type": "code",
   "execution_count": null,
   "metadata": {},
   "outputs": [],
   "source": []
  },
  {
   "cell_type": "code",
   "execution_count": null,
   "metadata": {},
   "outputs": [],
   "source": []
  }
 ],
 "metadata": {
  "kernelspec": {
   "display_name": "Python 3",
   "language": "python",
   "name": "python3"
  },
  "language_info": {
   "codemirror_mode": {
    "name": "ipython",
    "version": 3
   },
   "file_extension": ".py",
   "mimetype": "text/x-python",
   "name": "python",
   "nbconvert_exporter": "python",
   "pygments_lexer": "ipython3",
   "version": "3.8.3"
  }
 },
 "nbformat": 4,
 "nbformat_minor": 4
}
