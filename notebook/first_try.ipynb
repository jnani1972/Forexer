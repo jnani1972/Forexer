{
 "cells": [
  {
   "cell_type": "code",
   "execution_count": null,
   "metadata": {
    "colab": {
     "base_uri": "https://localhost:8080/",
     "height": 52
    },
    "executionInfo": {
     "elapsed": 3479,
     "status": "ok",
     "timestamp": 1605628329326,
     "user": {
      "displayName": "Mehran Rafiee",
      "photoUrl": "https://lh3.googleusercontent.com/a-/AOh14GjQaHXsiVw_zEqB7kTEkcJH9xNZQOVSwFQq5XpI5A=s64",
      "userId": "04953844480447339945"
     },
     "user_tz": -210
    },
    "id": "J6cDaGu41TVl",
    "outputId": "72e179ae-06e5-44e3-dd0c-bc1bedf0b007"
   },
   "outputs": [],
   "source": [
    "import torch\n",
    "import matplotlib.pyplot as plt\n",
    "import numpy as np\n",
    "import pandas as pd\n",
    "from datetime import datetime\n",
    "import sys\n",
    "\n",
    "plt.figure(figsize=(15, 10))"
   ]
  },
  {
   "cell_type": "code",
   "execution_count": null,
   "metadata": {
    "colab": {
     "base_uri": "https://localhost:8080/",
     "height": 215
    },
    "executionInfo": {
     "elapsed": 10669,
     "status": "ok",
     "timestamp": 1605628336536,
     "user": {
      "displayName": "Mehran Rafiee",
      "photoUrl": "https://lh3.googleusercontent.com/a-/AOh14GjQaHXsiVw_zEqB7kTEkcJH9xNZQOVSwFQq5XpI5A=s64",
      "userId": "04953844480447339945"
     },
     "user_tz": -210
    },
    "id": "ZkDba78s4CUx",
    "outputId": "4bb87571-d9f4-4578-e2a2-75fd04a00333"
   },
   "outputs": [],
   "source": [
    "# bid_data = pd.read_csv('/content/drive/My Drive/Colab Notebooks/Forex/EURCAD_Candlestick_1_M_BID_01.01.2019-07.11.2020.csv')\n",
    "# ask_data = pd.read_csv('/content/drive/My Drive/Colab Notebooks/Forex/EURCAD_Candlestick_1_M_ASK_01.01.2019-07.11.2020.csv')\n",
    "bid_data = pd.read_csv('dataset/EURCAD_Candlestick_1_M_BID_01.01.2019-07.11.2020.csv')\n",
    "ask_data = pd.read_csv('dataset/EURCAD_Candlestick_1_M_ASK_01.01.2019-07.11.2020.csv')\n",
    "\n",
    "bid_data.columns = bid_data.columns + '_bid'\n",
    "bid_data = bid_data.rename(columns={'Gmt time_bid': 'Gmt time'})\n",
    "\n",
    "ask_data.columns = ask_data.columns + '_ask'\n",
    "ask_data = ask_data.rename(columns={'Gmt time_ask': 'Gmt time'})\n",
    "\n",
    "print(bid_data.shape)\n",
    "bid_data.head()"
   ]
  },
  {
   "cell_type": "code",
   "execution_count": null,
   "metadata": {
    "colab": {
     "base_uri": "https://localhost:8080/",
     "height": 215
    },
    "executionInfo": {
     "elapsed": 10660,
     "status": "ok",
     "timestamp": 1605628336540,
     "user": {
      "displayName": "Mehran Rafiee",
      "photoUrl": "https://lh3.googleusercontent.com/a-/AOh14GjQaHXsiVw_zEqB7kTEkcJH9xNZQOVSwFQq5XpI5A=s64",
      "userId": "04953844480447339945"
     },
     "user_tz": -210
    },
    "id": "Bq2kxQFAyjT9",
    "outputId": "bcf96419-08f6-49c8-d377-6760430899dc"
   },
   "outputs": [],
   "source": [
    "print(ask_data.shape)\n",
    "ask_data.head()"
   ]
  },
  {
   "cell_type": "code",
   "execution_count": null,
   "metadata": {
    "colab": {
     "base_uri": "https://localhost:8080/"
    },
    "executionInfo": {
     "elapsed": 10653,
     "status": "ok",
     "timestamp": 1605628336542,
     "user": {
      "displayName": "Mehran Rafiee",
      "photoUrl": "https://lh3.googleusercontent.com/a-/AOh14GjQaHXsiVw_zEqB7kTEkcJH9xNZQOVSwFQq5XpI5A=s64",
      "userId": "04953844480447339945"
     },
     "user_tz": -210
    },
    "id": "0rONtPMmAC6q",
    "outputId": "33281eab-4b25-4eb0-9f65-d340eff4c788"
   },
   "outputs": [],
   "source": [
    "def extract_datetime(dtime):\n",
    "  \"\"\"\n",
    "   receives a timestamp and returns \n",
    "   day in the week,\n",
    "   year, month,  \n",
    "  \"\"\"\n",
    "  d, t = dtime.split(' ')\n",
    "  ds = np.array(d.split('.'), dtype=int)[::-1]\n",
    "  ts = np.array(t.split(':'), dtype=float)\n",
    "  date = datetime(ds[0], ds[1], ds[2])\n",
    "\n",
    "  return date.weekday(), ds[0], ds[1], ds[2], ts[0], ts[1], ts[2]\n",
    "  \n",
    "extract_datetime(bid_data['Gmt time'][970000])"
   ]
  },
  {
   "cell_type": "code",
   "execution_count": null,
   "metadata": {
    "colab": {
     "base_uri": "https://localhost:8080/",
     "height": 197
    },
    "executionInfo": {
     "elapsed": 10646,
     "status": "ok",
     "timestamp": 1605628336549,
     "user": {
      "displayName": "Mehran Rafiee",
      "photoUrl": "https://lh3.googleusercontent.com/a-/AOh14GjQaHXsiVw_zEqB7kTEkcJH9xNZQOVSwFQq5XpI5A=s64",
      "userId": "04953844480447339945"
     },
     "user_tz": -210
    },
    "id": "qTzkRwkD1TUG",
    "outputId": "bd5dd5e9-4872-4a9c-9ecb-de8dd02b41f5"
   },
   "outputs": [],
   "source": [
    "data = ask_data.join(bid_data.drop('Gmt time', axis=1))\n",
    "# data = pd.concat([bid_data, ask_data], )\n",
    "data.head()"
   ]
  },
  {
   "cell_type": "code",
   "execution_count": null,
   "metadata": {
    "executionInfo": {
     "elapsed": 19111,
     "status": "ok",
     "timestamp": 1605628345018,
     "user": {
      "displayName": "Mehran Rafiee",
      "photoUrl": "https://lh3.googleusercontent.com/a-/AOh14GjQaHXsiVw_zEqB7kTEkcJH9xNZQOVSwFQq5XpI5A=s64",
      "userId": "04953844480447339945"
     },
     "user_tz": -210
    },
    "id": "_vpk4UbKF8t5"
   },
   "outputs": [],
   "source": [
    "expanded_datetime_columns = ['weekday', 'year', 'month', 'day', 'hour', 'minute', 'second']\n",
    "expanded_datetime = np.array([extract_datetime(x) for x in data['Gmt time']], dtype=int)\n",
    "\n",
    "\n",
    "data = data.drop('Gmt time', axis=1,)\n",
    "data = pd.DataFrame(expanded_datetime, columns=expanded_datetime_columns).join(data)"
   ]
  },
  {
   "cell_type": "code",
   "execution_count": null,
   "metadata": {
    "colab": {
     "base_uri": "https://localhost:8080/",
     "height": 426
    },
    "executionInfo": {
     "elapsed": 19124,
     "status": "ok",
     "timestamp": 1605628345046,
     "user": {
      "displayName": "Mehran Rafiee",
      "photoUrl": "https://lh3.googleusercontent.com/a-/AOh14GjQaHXsiVw_zEqB7kTEkcJH9xNZQOVSwFQq5XpI5A=s64",
      "userId": "04953844480447339945"
     },
     "user_tz": -210
    },
    "id": "oHAGGCtBVi1e",
    "outputId": "abfc1afe-f7a8-4a28-82ef-446eac27402a"
   },
   "outputs": [],
   "source": [
    "data"
   ]
  },
  {
   "cell_type": "code",
   "execution_count": null,
   "metadata": {
    "colab": {
     "base_uri": "https://localhost:8080/",
     "height": 501
    },
    "executionInfo": {
     "elapsed": 19121,
     "status": "ok",
     "timestamp": 1605628345057,
     "user": {
      "displayName": "Mehran Rafiee",
      "photoUrl": "https://lh3.googleusercontent.com/a-/AOh14GjQaHXsiVw_zEqB7kTEkcJH9xNZQOVSwFQq5XpI5A=s64",
      "userId": "04953844480447339945"
     },
     "user_tz": -210
    },
    "id": "kOInjUFW9RMF",
    "outputId": "06dbebe8-bb0e-4ee5-99f7-78b7ae89aca3"
   },
   "outputs": [],
   "source": [
    "idx_start = 200000\n",
    "idx_end = 200100\n",
    "\n",
    "data[['Close_bid', 'Close_ask' ]][idx_start:idx_end].plot(figsize=(15, 8))"
   ]
  },
  {
   "cell_type": "code",
   "execution_count": null,
   "metadata": {
    "colab": {
     "base_uri": "https://localhost:8080/",
     "height": 501
    },
    "executionInfo": {
     "elapsed": 19645,
     "status": "ok",
     "timestamp": 1605628345595,
     "user": {
      "displayName": "Mehran Rafiee",
      "photoUrl": "https://lh3.googleusercontent.com/a-/AOh14GjQaHXsiVw_zEqB7kTEkcJH9xNZQOVSwFQq5XpI5A=s64",
      "userId": "04953844480447339945"
     },
     "user_tz": -210
    },
    "id": "P8wLNwho6D7q",
    "outputId": "2d0ed856-f433-49d1-e762-951d818602c4"
   },
   "outputs": [],
   "source": [
    "data[['Volume_ask', 'Volume_bid']][idx_start:idx_end].plot(figsize=(15, 8))"
   ]
  },
  {
   "cell_type": "code",
   "execution_count": null,
   "metadata": {
    "colab": {
     "base_uri": "https://localhost:8080/"
    },
    "executionInfo": {
     "elapsed": 23027,
     "status": "ok",
     "timestamp": 1605628348986,
     "user": {
      "displayName": "Mehran Rafiee",
      "photoUrl": "https://lh3.googleusercontent.com/a-/AOh14GjQaHXsiVw_zEqB7kTEkcJH9xNZQOVSwFQq5XpI5A=s64",
      "userId": "04953844480447339945"
     },
     "user_tz": -210
    },
    "id": "YrtZKw4p7b63",
    "outputId": "fb7bf60c-4adc-43b6-d8a8-d3cba8a69088"
   },
   "outputs": [],
   "source": [
    "from sklearn.model_selection import train_test_split\n",
    "\n",
    "X = data.drop(['Open_ask',\t'High_ask',\t'Low_ask',\t'Close_ask',\t'Open_bid',\t'High_bid',\t'Low_bid',\n",
    "               'Close_bid', 'Volume_ask',\t'Volume_bid'], axis=1)\n",
    "# y = data[['Open_ask',\t'High_ask',\t'Low_ask',\t'Close_ask',\t'Open_bid',\t'High_bid',\t'Low_bid',\t'Close_bid']]\n",
    "y = data['Close_bid']\n",
    "\n",
    "X_train, X_test, y_train, y_test = train_test_split(X, y, shuffle=False)\n",
    "print(X_train.shape)\n",
    "print(y_test.shape)"
   ]
  },
  {
   "cell_type": "code",
   "execution_count": null,
   "metadata": {
    "colab": {
     "base_uri": "https://localhost:8080/"
    },
    "executionInfo": {
     "elapsed": 23019,
     "status": "ok",
     "timestamp": 1605628348987,
     "user": {
      "displayName": "Mehran Rafiee",
      "photoUrl": "https://lh3.googleusercontent.com/a-/AOh14GjQaHXsiVw_zEqB7kTEkcJH9xNZQOVSwFQq5XpI5A=s64",
      "userId": "04953844480447339945"
     },
     "user_tz": -210
    },
    "id": "2uzmcKllcvXm",
    "outputId": "259265b6-47d0-443f-9798-6e7b00c153da"
   },
   "outputs": [],
   "source": [
    "y_train"
   ]
  },
  {
   "cell_type": "code",
   "execution_count": null,
   "metadata": {
    "colab": {
     "base_uri": "https://localhost:8080/"
    },
    "executionInfo": {
     "elapsed": 21792,
     "status": "ok",
     "timestamp": 1605628348990,
     "user": {
      "displayName": "Mehran Rafiee",
      "photoUrl": "https://lh3.googleusercontent.com/a-/AOh14GjQaHXsiVw_zEqB7kTEkcJH9xNZQOVSwFQq5XpI5A=s64",
      "userId": "04953844480447339945"
     },
     "user_tz": -210
    },
    "id": "Y_J2_DHDB1Zh",
    "outputId": "ee5d72f2-2502-461a-f59f-02e28eec7e2c"
   },
   "outputs": [],
   "source": [
    "cbm10 = y_train.rolling(8).mean()\n",
    "X_train['cbm'] = cbm10\n",
    "X_train['cbm'][:10] = X_train['cbm'][10]"
   ]
  },
  {
   "cell_type": "code",
   "execution_count": null,
   "metadata": {
    "executionInfo": {
     "elapsed": 11759,
     "status": "ok",
     "timestamp": 1605628348992,
     "user": {
      "displayName": "Mehran Rafiee",
      "photoUrl": "https://lh3.googleusercontent.com/a-/AOh14GjQaHXsiVw_zEqB7kTEkcJH9xNZQOVSwFQq5XpI5A=s64",
      "userId": "04953844480447339945"
     },
     "user_tz": -210
    },
    "id": "K0BJmLeRW_P6"
   },
   "outputs": [],
   "source": [
    "def plot_performance(preds, truth, start, forward=1000):\n",
    "    if forward == -1:\n",
    "        end = len(y_preds)\n",
    "    else:\n",
    "        end = start + forward\n",
    "\n",
    "    plt.figure(figsize=(15, 10))\n",
    "    plt.plot(preds[start: end], label='predicted')\n",
    "    plt.plot(truth[start: end], label='ground truth')\n",
    "    plt.legend()"
   ]
  },
  {
   "cell_type": "markdown",
   "metadata": {
    "id": "Dh_s4JlC7PnA"
   },
   "source": [
    "# Baseline Models"
   ]
  },
  {
   "cell_type": "markdown",
   "metadata": {
    "id": "pHM_Fz5XS7Nu"
   },
   "source": [
    "## Ada Boost"
   ]
  },
  {
   "cell_type": "code",
   "execution_count": null,
   "metadata": {
    "colab": {
     "base_uri": "https://localhost:8080/"
    },
    "executionInfo": {
     "elapsed": 272148,
     "status": "ok",
     "timestamp": 1605560946214,
     "user": {
      "displayName": "Mehran Rafiee",
      "photoUrl": "https://lh3.googleusercontent.com/a-/AOh14GjQaHXsiVw_zEqB7kTEkcJH9xNZQOVSwFQq5XpI5A=s64",
      "userId": "04953844480447339945"
     },
     "user_tz": -210
    },
    "id": "ZTi6i6Gt4Uh3",
    "outputId": "dcc3325b-7dfc-4f4a-94fe-f60d8db70b14"
   },
   "outputs": [],
   "source": [
    "from sklearn.ensemble import AdaBoostRegressor\n",
    "\n",
    "regr = AdaBoostRegressor(random_state=0, n_estimators=200, loss='exponential', learning_rate=0.5)\n",
    "regr.fit(X_train, y_train)\n",
    "regr.score(X_train, y_train)"
   ]
  },
  {
   "cell_type": "code",
   "execution_count": null,
   "metadata": {
    "colab": {
     "base_uri": "https://localhost:8080/",
     "height": 513
    },
    "executionInfo": {
     "elapsed": 1450,
     "status": "ok",
     "timestamp": 1605561554919,
     "user": {
      "displayName": "Mehran Rafiee",
      "photoUrl": "https://lh3.googleusercontent.com/a-/AOh14GjQaHXsiVw_zEqB7kTEkcJH9xNZQOVSwFQq5XpI5A=s64",
      "userId": "04953844480447339945"
     },
     "user_tz": -210
    },
    "id": "_IPaR13LuIU0",
    "outputId": "841e2b82-a8d5-4943-db83-53281f365f60"
   },
   "outputs": [],
   "source": [
    "X_test['cbm'] = np.zeros((y_test.shape[0], 1))\n",
    "X_test"
   ]
  },
  {
   "cell_type": "code",
   "execution_count": null,
   "metadata": {
    "id": "TdZcESiJ9M8E"
   },
   "outputs": [],
   "source": []
  },
  {
   "cell_type": "code",
   "execution_count": null,
   "metadata": {
    "colab": {
     "base_uri": "https://localhost:8080/"
    },
    "executionInfo": {
     "elapsed": 2073,
     "status": "ok",
     "timestamp": 1605561558522,
     "user": {
      "displayName": "Mehran Rafiee",
      "photoUrl": "https://lh3.googleusercontent.com/a-/AOh14GjQaHXsiVw_zEqB7kTEkcJH9xNZQOVSwFQq5XpI5A=s64",
      "userId": "04953844480447339945"
     },
     "user_tz": -210
    },
    "id": "txx_JrvQfQbE",
    "outputId": "d4eccc6c-ab57-4452-ec53-ad6c13cf25d4"
   },
   "outputs": [],
   "source": [
    "item = X_test.iloc[0]\n",
    "item.iloc[[-1]] = 1\n",
    "item"
   ]
  },
  {
   "cell_type": "code",
   "execution_count": null,
   "metadata": {
    "id": "sabaHYBD5266"
   },
   "outputs": [],
   "source": [
    "def predict(X_test, y_train, verbose=1):\n",
    "  size = y_train.shape[0]\n",
    "\n",
    "  y_preds = np.zeros(X_test.shape[0])\n",
    "  y_preds[0] = np.mean(y_train.values[size-8:])\n",
    "\n",
    "  for index in range(8):\n",
    "     item = X_test.iloc[index].values\n",
    "     item[-1] = (np.sum(y_train.values[size-(8 - index):]) + np.sum(y_preds[:index]))/8\n",
    "     y_preds[index] = regr.predict(item.reshape(1, -1))\n",
    "\n",
    "  for index in range(8, X_test.shape[0]):   \n",
    "    item = X_test.iloc[index].values\n",
    "    item[-1] = np.mean(y_preds[index-8: index])\n",
    "    y_preds[index] = regr.predict(item.reshape(1, -1))\n",
    "\n",
    "    if verbose==1 and index % 100 == 0:\n",
    "      # print('fwe')\n",
    "      print(\"\", end='\\r{:.2f} has completed'.format((index/y_preds.shape[0])*100))\n",
    "      # sys.stdout.flush()\n",
    "  print('')\n",
    "  return y_preds"
   ]
  },
  {
   "cell_type": "code",
   "execution_count": null,
   "metadata": {
    "colab": {
     "base_uri": "https://localhost:8080/"
    },
    "executionInfo": {
     "elapsed": 2302225,
     "status": "ok",
     "timestamp": 1605566265535,
     "user": {
      "displayName": "Mehran Rafiee",
      "photoUrl": "https://lh3.googleusercontent.com/a-/AOh14GjQaHXsiVw_zEqB7kTEkcJH9xNZQOVSwFQq5XpI5A=s64",
      "userId": "04953844480447339945"
     },
     "user_tz": -210
    },
    "id": "7pzA1IEx_QxR",
    "outputId": "2685daa3-7d07-4024-9e14-d64f1f5a5476"
   },
   "outputs": [],
   "source": [
    "y_preds = predict(X_test, y_train)\n",
    "y_preds[:10]"
   ]
  },
  {
   "cell_type": "code",
   "execution_count": null,
   "metadata": {
    "colab": {
     "base_uri": "https://localhost:8080/",
     "height": 592
    },
    "executionInfo": {
     "elapsed": 1525,
     "status": "ok",
     "timestamp": 1605566271374,
     "user": {
      "displayName": "Mehran Rafiee",
      "photoUrl": "https://lh3.googleusercontent.com/a-/AOh14GjQaHXsiVw_zEqB7kTEkcJH9xNZQOVSwFQq5XpI5A=s64",
      "userId": "04953844480447339945"
     },
     "user_tz": -210
    },
    "id": "6EuLnJr4WV4k",
    "outputId": "2b6227fa-7b21-41f1-cffb-1e1a1040cfd7"
   },
   "outputs": [],
   "source": [
    "plot_performance(y_preds, y_test.to_numpy(), 0, forward=10000)"
   ]
  },
  {
   "cell_type": "markdown",
   "metadata": {
    "id": "Rhp9GPm4emuQ"
   },
   "source": [
    "## LSTM"
   ]
  },
  {
   "cell_type": "code",
   "execution_count": null,
   "metadata": {},
   "outputs": [],
   "source": [
    "X_train = torch.from_numpy(X_train.values)\n",
    "y_train = torch.from_numpy(y_train.values)"
   ]
  },
  {
   "cell_type": "code",
   "execution_count": null,
   "metadata": {
    "id": "wzSTw2RwemB_"
   },
   "outputs": [],
   "source": [
    "import torch\n",
    "import torch.nn as nn\n",
    "import torch.optim as optim\n",
    "import torch.nn.functional as F\n",
    "\n",
    "\n",
    "input_size = 8\n",
    "seq_length = 1\n",
    "num_layers = 2\n",
    "hidden_size = 256\n",
    "learning_rate = 0.001\n",
    "num_epochs = 3\n",
    "device = torch.device('cuda' if torch.cuda.is_available() else 'cpu')\n",
    "\n",
    "class RNN(nn.Module):\n",
    "    def __init__(self, input_size, hidden_size, seq_length, num_layers):\n",
    "        super(RNN, self).__init__()\n",
    "        self.hidden_size = hidden_size\n",
    "        self.num_layers = num_layers\n",
    "        \n",
    "        self.rnn = nn.RNN(input_size, hidden_size, num_layers)\n",
    "        self.fc = nn.Linear(hidden_size * seq_length, 1)\n",
    "        \n",
    "    def forward(self, x):\n",
    "        \n",
    "        h0 = torch.zeros(self.num_layers, x.size(0), self.hidden_size).to(device)\n",
    "        out, _ = self.rnn(x, h0)\n",
    "        out = out.reshape(out.size(0), -1)\n",
    "        out = self.fc(out)\n",
    "        \n",
    "        return out\n",
    "    \n",
    "    \n",
    "model = RNN(input_size, hidden_size, seq_length, num_layers)\n",
    "\n",
    "        "
   ]
  },
  {
   "cell_type": "code",
   "execution_count": null,
   "metadata": {},
   "outputs": [],
   "source": [
    "critirion = nn.BCELoss()\n",
    "optimizer = optim.Adam(model.parameters(), lr=learning_rate)"
   ]
  },
  {
   "cell_type": "code",
   "execution_count": null,
   "metadata": {},
   "outputs": [],
   "source": [
    "X_train.reshape(X_train.)"
   ]
  },
  {
   "cell_type": "code",
   "execution_count": null,
   "metadata": {},
   "outputs": [],
   "source": [
    "for epoch in range(num_epochs):\n",
    "    \n",
    "    scores = model(X_train)\n",
    "    loss = critirion(scores, y_train)\n",
    "    \n",
    "    optimizer.zero_grad()\n",
    "    loss.backward()\n",
    "    \n",
    "    optimizer.step()\n",
    "    "
   ]
  },
  {
   "cell_type": "code",
   "execution_count": null,
   "metadata": {},
   "outputs": [],
   "source": []
  }
 ],
 "metadata": {
  "colab": {
   "authorship_tag": "ABX9TyNMhAC8ysjPg00LWD7RBWzH",
   "collapsed_sections": [],
   "mount_file_id": "10MwWX0udSk7NUJYywb5z7HEuOu3YntjP",
   "name": "first_try.ipynb",
   "provenance": [],
   "toc_visible": true
  },
  "kernelspec": {
   "display_name": "Python 3",
   "language": "python",
   "name": "python3"
  },
  "language_info": {
   "codemirror_mode": {
    "name": "ipython",
    "version": 3
   },
   "file_extension": ".py",
   "mimetype": "text/x-python",
   "name": "python",
   "nbconvert_exporter": "python",
   "pygments_lexer": "ipython3",
   "version": "3.8.3"
  }
 },
 "nbformat": 4,
 "nbformat_minor": 1
}