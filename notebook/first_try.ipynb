{
 "cells": [
  {
   "cell_type": "code",
   "execution_count": 1,
   "metadata": {
    "colab": {
     "base_uri": "https://localhost:8080/",
     "height": 52
    },
    "executionInfo": {
     "elapsed": 3479,
     "status": "ok",
     "timestamp": 1605628329326,
     "user": {
      "displayName": "Mehran Rafiee",
      "photoUrl": "https://lh3.googleusercontent.com/a-/AOh14GjQaHXsiVw_zEqB7kTEkcJH9xNZQOVSwFQq5XpI5A=s64",
      "userId": "04953844480447339945"
     },
     "user_tz": -210
    },
    "id": "J6cDaGu41TVl",
    "outputId": "72e179ae-06e5-44e3-dd0c-bc1bedf0b007"
   },
   "outputs": [
    {
     "data": {
      "text/plain": [
       "<Figure size 1080x720 with 0 Axes>"
      ]
     },
     "execution_count": 1,
     "metadata": {},
     "output_type": "execute_result"
    },
    {
     "data": {
      "text/plain": [
       "<Figure size 1080x720 with 0 Axes>"
      ]
     },
     "metadata": {},
     "output_type": "display_data"
    }
   ],
   "source": [
    "import torch\n",
    "import matplotlib.pyplot as plt\n",
    "import numpy as np\n",
    "import pandas as pd\n",
    "from datetime import datetime\n",
    "import sys\n",
    "\n",
    "plt.figure(figsize=(15, 10))"
   ]
  },
  {
   "cell_type": "code",
   "execution_count": 2,
   "metadata": {
    "colab": {
     "base_uri": "https://localhost:8080/",
     "height": 215
    },
    "executionInfo": {
     "elapsed": 10669,
     "status": "ok",
     "timestamp": 1605628336536,
     "user": {
      "displayName": "Mehran Rafiee",
      "photoUrl": "https://lh3.googleusercontent.com/a-/AOh14GjQaHXsiVw_zEqB7kTEkcJH9xNZQOVSwFQq5XpI5A=s64",
      "userId": "04953844480447339945"
     },
     "user_tz": -210
    },
    "id": "ZkDba78s4CUx",
    "outputId": "4bb87571-d9f4-4578-e2a2-75fd04a00333"
   },
   "outputs": [
    {
     "name": "stdout",
     "output_type": "stream",
     "text": [
      "(974880, 6)\n"
     ]
    },
    {
     "data": {
      "text/html": [
       "<div>\n",
       "<style scoped>\n",
       "    .dataframe tbody tr th:only-of-type {\n",
       "        vertical-align: middle;\n",
       "    }\n",
       "\n",
       "    .dataframe tbody tr th {\n",
       "        vertical-align: top;\n",
       "    }\n",
       "\n",
       "    .dataframe thead th {\n",
       "        text-align: right;\n",
       "    }\n",
       "</style>\n",
       "<table border=\"1\" class=\"dataframe\">\n",
       "  <thead>\n",
       "    <tr style=\"text-align: right;\">\n",
       "      <th></th>\n",
       "      <th>Gmt time</th>\n",
       "      <th>Open_bid</th>\n",
       "      <th>High_bid</th>\n",
       "      <th>Low_bid</th>\n",
       "      <th>Close_bid</th>\n",
       "      <th>Volume_bid</th>\n",
       "    </tr>\n",
       "  </thead>\n",
       "  <tbody>\n",
       "    <tr>\n",
       "      <th>0</th>\n",
       "      <td>01.01.2019 00:00:00.000</td>\n",
       "      <td>1.56259</td>\n",
       "      <td>1.56259</td>\n",
       "      <td>1.56259</td>\n",
       "      <td>1.56259</td>\n",
       "      <td>0.0</td>\n",
       "    </tr>\n",
       "    <tr>\n",
       "      <th>1</th>\n",
       "      <td>01.01.2019 00:01:00.000</td>\n",
       "      <td>1.56259</td>\n",
       "      <td>1.56259</td>\n",
       "      <td>1.56259</td>\n",
       "      <td>1.56259</td>\n",
       "      <td>0.0</td>\n",
       "    </tr>\n",
       "    <tr>\n",
       "      <th>2</th>\n",
       "      <td>01.01.2019 00:02:00.000</td>\n",
       "      <td>1.56259</td>\n",
       "      <td>1.56259</td>\n",
       "      <td>1.56259</td>\n",
       "      <td>1.56259</td>\n",
       "      <td>0.0</td>\n",
       "    </tr>\n",
       "    <tr>\n",
       "      <th>3</th>\n",
       "      <td>01.01.2019 00:03:00.000</td>\n",
       "      <td>1.56259</td>\n",
       "      <td>1.56259</td>\n",
       "      <td>1.56259</td>\n",
       "      <td>1.56259</td>\n",
       "      <td>0.0</td>\n",
       "    </tr>\n",
       "    <tr>\n",
       "      <th>4</th>\n",
       "      <td>01.01.2019 00:04:00.000</td>\n",
       "      <td>1.56259</td>\n",
       "      <td>1.56259</td>\n",
       "      <td>1.56259</td>\n",
       "      <td>1.56259</td>\n",
       "      <td>0.0</td>\n",
       "    </tr>\n",
       "  </tbody>\n",
       "</table>\n",
       "</div>"
      ],
      "text/plain": [
       "                  Gmt time  Open_bid  High_bid  Low_bid  Close_bid  Volume_bid\n",
       "0  01.01.2019 00:00:00.000   1.56259   1.56259  1.56259    1.56259         0.0\n",
       "1  01.01.2019 00:01:00.000   1.56259   1.56259  1.56259    1.56259         0.0\n",
       "2  01.01.2019 00:02:00.000   1.56259   1.56259  1.56259    1.56259         0.0\n",
       "3  01.01.2019 00:03:00.000   1.56259   1.56259  1.56259    1.56259         0.0\n",
       "4  01.01.2019 00:04:00.000   1.56259   1.56259  1.56259    1.56259         0.0"
      ]
     },
     "execution_count": 2,
     "metadata": {},
     "output_type": "execute_result"
    }
   ],
   "source": [
    "# bid_data = pd.read_csv('/content/drive/My Drive/Colab Notebooks/Forex/EURCAD_Candlestick_1_M_BID_01.01.2019-07.11.2020.csv')\n",
    "# ask_data = pd.read_csv('/content/drive/My Drive/Colab Notebooks/Forex/EURCAD_Candlestick_1_M_ASK_01.01.2019-07.11.2020.csv')\n",
    "bid_data = pd.read_csv('dataset/EURCAD_Candlestick_1_M_BID_01.01.2019-07.11.2020.csv')\n",
    "ask_data = pd.read_csv('dataset/EURCAD_Candlestick_1_M_ASK_01.01.2019-07.11.2020.csv')\n",
    "\n",
    "bid_data.columns = bid_data.columns + '_bid'\n",
    "bid_data = bid_data.rename(columns={'Gmt time_bid': 'Gmt time'})\n",
    "\n",
    "ask_data.columns = ask_data.columns + '_ask'\n",
    "ask_data = ask_data.rename(columns={'Gmt time_ask': 'Gmt time'})\n",
    "\n",
    "print(bid_data.shape)\n",
    "bid_data.head()"
   ]
  },
  {
   "cell_type": "code",
   "execution_count": 3,
   "metadata": {
    "colab": {
     "base_uri": "https://localhost:8080/",
     "height": 215
    },
    "executionInfo": {
     "elapsed": 10660,
     "status": "ok",
     "timestamp": 1605628336540,
     "user": {
      "displayName": "Mehran Rafiee",
      "photoUrl": "https://lh3.googleusercontent.com/a-/AOh14GjQaHXsiVw_zEqB7kTEkcJH9xNZQOVSwFQq5XpI5A=s64",
      "userId": "04953844480447339945"
     },
     "user_tz": -210
    },
    "id": "Bq2kxQFAyjT9",
    "outputId": "bcf96419-08f6-49c8-d377-6760430899dc"
   },
   "outputs": [
    {
     "name": "stdout",
     "output_type": "stream",
     "text": [
      "(974880, 6)\n"
     ]
    },
    {
     "data": {
      "text/html": [
       "<div>\n",
       "<style scoped>\n",
       "    .dataframe tbody tr th:only-of-type {\n",
       "        vertical-align: middle;\n",
       "    }\n",
       "\n",
       "    .dataframe tbody tr th {\n",
       "        vertical-align: top;\n",
       "    }\n",
       "\n",
       "    .dataframe thead th {\n",
       "        text-align: right;\n",
       "    }\n",
       "</style>\n",
       "<table border=\"1\" class=\"dataframe\">\n",
       "  <thead>\n",
       "    <tr style=\"text-align: right;\">\n",
       "      <th></th>\n",
       "      <th>Gmt time</th>\n",
       "      <th>Open_ask</th>\n",
       "      <th>High_ask</th>\n",
       "      <th>Low_ask</th>\n",
       "      <th>Close_ask</th>\n",
       "      <th>Volume_ask</th>\n",
       "    </tr>\n",
       "  </thead>\n",
       "  <tbody>\n",
       "    <tr>\n",
       "      <th>0</th>\n",
       "      <td>01.01.2019 00:00:00.000</td>\n",
       "      <td>1.56465</td>\n",
       "      <td>1.56465</td>\n",
       "      <td>1.56465</td>\n",
       "      <td>1.56465</td>\n",
       "      <td>0.0</td>\n",
       "    </tr>\n",
       "    <tr>\n",
       "      <th>1</th>\n",
       "      <td>01.01.2019 00:01:00.000</td>\n",
       "      <td>1.56465</td>\n",
       "      <td>1.56465</td>\n",
       "      <td>1.56465</td>\n",
       "      <td>1.56465</td>\n",
       "      <td>0.0</td>\n",
       "    </tr>\n",
       "    <tr>\n",
       "      <th>2</th>\n",
       "      <td>01.01.2019 00:02:00.000</td>\n",
       "      <td>1.56465</td>\n",
       "      <td>1.56465</td>\n",
       "      <td>1.56465</td>\n",
       "      <td>1.56465</td>\n",
       "      <td>0.0</td>\n",
       "    </tr>\n",
       "    <tr>\n",
       "      <th>3</th>\n",
       "      <td>01.01.2019 00:03:00.000</td>\n",
       "      <td>1.56465</td>\n",
       "      <td>1.56465</td>\n",
       "      <td>1.56465</td>\n",
       "      <td>1.56465</td>\n",
       "      <td>0.0</td>\n",
       "    </tr>\n",
       "    <tr>\n",
       "      <th>4</th>\n",
       "      <td>01.01.2019 00:04:00.000</td>\n",
       "      <td>1.56465</td>\n",
       "      <td>1.56465</td>\n",
       "      <td>1.56465</td>\n",
       "      <td>1.56465</td>\n",
       "      <td>0.0</td>\n",
       "    </tr>\n",
       "  </tbody>\n",
       "</table>\n",
       "</div>"
      ],
      "text/plain": [
       "                  Gmt time  Open_ask  High_ask  Low_ask  Close_ask  Volume_ask\n",
       "0  01.01.2019 00:00:00.000   1.56465   1.56465  1.56465    1.56465         0.0\n",
       "1  01.01.2019 00:01:00.000   1.56465   1.56465  1.56465    1.56465         0.0\n",
       "2  01.01.2019 00:02:00.000   1.56465   1.56465  1.56465    1.56465         0.0\n",
       "3  01.01.2019 00:03:00.000   1.56465   1.56465  1.56465    1.56465         0.0\n",
       "4  01.01.2019 00:04:00.000   1.56465   1.56465  1.56465    1.56465         0.0"
      ]
     },
     "execution_count": 3,
     "metadata": {},
     "output_type": "execute_result"
    }
   ],
   "source": [
    "print(ask_data.shape)\n",
    "ask_data.head()"
   ]
  },
  {
   "cell_type": "code",
   "execution_count": 4,
   "metadata": {
    "colab": {
     "base_uri": "https://localhost:8080/"
    },
    "executionInfo": {
     "elapsed": 10653,
     "status": "ok",
     "timestamp": 1605628336542,
     "user": {
      "displayName": "Mehran Rafiee",
      "photoUrl": "https://lh3.googleusercontent.com/a-/AOh14GjQaHXsiVw_zEqB7kTEkcJH9xNZQOVSwFQq5XpI5A=s64",
      "userId": "04953844480447339945"
     },
     "user_tz": -210
    },
    "id": "0rONtPMmAC6q",
    "outputId": "33281eab-4b25-4eb0-9f65-d340eff4c788"
   },
   "outputs": [
    {
     "data": {
      "text/plain": [
       "(2, 2020, 11, 4, 14.0, 40.0, 0.0)"
      ]
     },
     "execution_count": 4,
     "metadata": {},
     "output_type": "execute_result"
    }
   ],
   "source": [
    "def extract_datetime(dtime):\n",
    "  \"\"\"\n",
    "   receives a timestamp and returns \n",
    "   day in the week,\n",
    "   year, month,  \n",
    "  \"\"\"\n",
    "  d, t = dtime.split(' ')\n",
    "  ds = np.array(d.split('.'), dtype=int)[::-1]\n",
    "  ts = np.array(t.split(':'), dtype=float)\n",
    "  date = datetime(ds[0], ds[1], ds[2])\n",
    "\n",
    "  return date.weekday(), ds[0], ds[1], ds[2], ts[0], ts[1], ts[2]\n",
    "  \n",
    "extract_datetime(bid_data['Gmt time'][970000])"
   ]
  },
  {
   "cell_type": "code",
   "execution_count": 5,
   "metadata": {
    "colab": {
     "base_uri": "https://localhost:8080/",
     "height": 197
    },
    "executionInfo": {
     "elapsed": 10646,
     "status": "ok",
     "timestamp": 1605628336549,
     "user": {
      "displayName": "Mehran Rafiee",
      "photoUrl": "https://lh3.googleusercontent.com/a-/AOh14GjQaHXsiVw_zEqB7kTEkcJH9xNZQOVSwFQq5XpI5A=s64",
      "userId": "04953844480447339945"
     },
     "user_tz": -210
    },
    "id": "qTzkRwkD1TUG",
    "outputId": "bd5dd5e9-4872-4a9c-9ecb-de8dd02b41f5"
   },
   "outputs": [
    {
     "data": {
      "text/html": [
       "<div>\n",
       "<style scoped>\n",
       "    .dataframe tbody tr th:only-of-type {\n",
       "        vertical-align: middle;\n",
       "    }\n",
       "\n",
       "    .dataframe tbody tr th {\n",
       "        vertical-align: top;\n",
       "    }\n",
       "\n",
       "    .dataframe thead th {\n",
       "        text-align: right;\n",
       "    }\n",
       "</style>\n",
       "<table border=\"1\" class=\"dataframe\">\n",
       "  <thead>\n",
       "    <tr style=\"text-align: right;\">\n",
       "      <th></th>\n",
       "      <th>Gmt time</th>\n",
       "      <th>Open_ask</th>\n",
       "      <th>High_ask</th>\n",
       "      <th>Low_ask</th>\n",
       "      <th>Close_ask</th>\n",
       "      <th>Volume_ask</th>\n",
       "      <th>Open_bid</th>\n",
       "      <th>High_bid</th>\n",
       "      <th>Low_bid</th>\n",
       "      <th>Close_bid</th>\n",
       "      <th>Volume_bid</th>\n",
       "    </tr>\n",
       "  </thead>\n",
       "  <tbody>\n",
       "    <tr>\n",
       "      <th>0</th>\n",
       "      <td>01.01.2019 00:00:00.000</td>\n",
       "      <td>1.56465</td>\n",
       "      <td>1.56465</td>\n",
       "      <td>1.56465</td>\n",
       "      <td>1.56465</td>\n",
       "      <td>0.0</td>\n",
       "      <td>1.56259</td>\n",
       "      <td>1.56259</td>\n",
       "      <td>1.56259</td>\n",
       "      <td>1.56259</td>\n",
       "      <td>0.0</td>\n",
       "    </tr>\n",
       "    <tr>\n",
       "      <th>1</th>\n",
       "      <td>01.01.2019 00:01:00.000</td>\n",
       "      <td>1.56465</td>\n",
       "      <td>1.56465</td>\n",
       "      <td>1.56465</td>\n",
       "      <td>1.56465</td>\n",
       "      <td>0.0</td>\n",
       "      <td>1.56259</td>\n",
       "      <td>1.56259</td>\n",
       "      <td>1.56259</td>\n",
       "      <td>1.56259</td>\n",
       "      <td>0.0</td>\n",
       "    </tr>\n",
       "    <tr>\n",
       "      <th>2</th>\n",
       "      <td>01.01.2019 00:02:00.000</td>\n",
       "      <td>1.56465</td>\n",
       "      <td>1.56465</td>\n",
       "      <td>1.56465</td>\n",
       "      <td>1.56465</td>\n",
       "      <td>0.0</td>\n",
       "      <td>1.56259</td>\n",
       "      <td>1.56259</td>\n",
       "      <td>1.56259</td>\n",
       "      <td>1.56259</td>\n",
       "      <td>0.0</td>\n",
       "    </tr>\n",
       "    <tr>\n",
       "      <th>3</th>\n",
       "      <td>01.01.2019 00:03:00.000</td>\n",
       "      <td>1.56465</td>\n",
       "      <td>1.56465</td>\n",
       "      <td>1.56465</td>\n",
       "      <td>1.56465</td>\n",
       "      <td>0.0</td>\n",
       "      <td>1.56259</td>\n",
       "      <td>1.56259</td>\n",
       "      <td>1.56259</td>\n",
       "      <td>1.56259</td>\n",
       "      <td>0.0</td>\n",
       "    </tr>\n",
       "    <tr>\n",
       "      <th>4</th>\n",
       "      <td>01.01.2019 00:04:00.000</td>\n",
       "      <td>1.56465</td>\n",
       "      <td>1.56465</td>\n",
       "      <td>1.56465</td>\n",
       "      <td>1.56465</td>\n",
       "      <td>0.0</td>\n",
       "      <td>1.56259</td>\n",
       "      <td>1.56259</td>\n",
       "      <td>1.56259</td>\n",
       "      <td>1.56259</td>\n",
       "      <td>0.0</td>\n",
       "    </tr>\n",
       "  </tbody>\n",
       "</table>\n",
       "</div>"
      ],
      "text/plain": [
       "                  Gmt time  Open_ask  High_ask  Low_ask  Close_ask  \\\n",
       "0  01.01.2019 00:00:00.000   1.56465   1.56465  1.56465    1.56465   \n",
       "1  01.01.2019 00:01:00.000   1.56465   1.56465  1.56465    1.56465   \n",
       "2  01.01.2019 00:02:00.000   1.56465   1.56465  1.56465    1.56465   \n",
       "3  01.01.2019 00:03:00.000   1.56465   1.56465  1.56465    1.56465   \n",
       "4  01.01.2019 00:04:00.000   1.56465   1.56465  1.56465    1.56465   \n",
       "\n",
       "   Volume_ask  Open_bid  High_bid  Low_bid  Close_bid  Volume_bid  \n",
       "0         0.0   1.56259   1.56259  1.56259    1.56259         0.0  \n",
       "1         0.0   1.56259   1.56259  1.56259    1.56259         0.0  \n",
       "2         0.0   1.56259   1.56259  1.56259    1.56259         0.0  \n",
       "3         0.0   1.56259   1.56259  1.56259    1.56259         0.0  \n",
       "4         0.0   1.56259   1.56259  1.56259    1.56259         0.0  "
      ]
     },
     "execution_count": 5,
     "metadata": {},
     "output_type": "execute_result"
    }
   ],
   "source": [
    "data = ask_data.join(bid_data.drop('Gmt time', axis=1))\n",
    "# data = pd.concat([bid_data, ask_data], )\n",
    "data.head()"
   ]
  },
  {
   "cell_type": "code",
   "execution_count": 6,
   "metadata": {
    "executionInfo": {
     "elapsed": 19111,
     "status": "ok",
     "timestamp": 1605628345018,
     "user": {
      "displayName": "Mehran Rafiee",
      "photoUrl": "https://lh3.googleusercontent.com/a-/AOh14GjQaHXsiVw_zEqB7kTEkcJH9xNZQOVSwFQq5XpI5A=s64",
      "userId": "04953844480447339945"
     },
     "user_tz": -210
    },
    "id": "_vpk4UbKF8t5"
   },
   "outputs": [],
   "source": [
    "expanded_datetime_columns = ['weekday', 'year', 'month', 'day', 'hour', 'minute', 'second']\n",
    "expanded_datetime = np.array([extract_datetime(x) for x in data['Gmt time']], dtype=int)\n",
    "\n",
    "\n",
    "data = data.drop('Gmt time', axis=1,)\n",
    "data = pd.DataFrame(expanded_datetime, columns=expanded_datetime_columns).join(data)"
   ]
  },
  {
   "cell_type": "code",
   "execution_count": 7,
   "metadata": {
    "colab": {
     "base_uri": "https://localhost:8080/",
     "height": 426
    },
    "executionInfo": {
     "elapsed": 19124,
     "status": "ok",
     "timestamp": 1605628345046,
     "user": {
      "displayName": "Mehran Rafiee",
      "photoUrl": "https://lh3.googleusercontent.com/a-/AOh14GjQaHXsiVw_zEqB7kTEkcJH9xNZQOVSwFQq5XpI5A=s64",
      "userId": "04953844480447339945"
     },
     "user_tz": -210
    },
    "id": "oHAGGCtBVi1e",
    "outputId": "abfc1afe-f7a8-4a28-82ef-446eac27402a"
   },
   "outputs": [
    {
     "data": {
      "text/html": [
       "<div>\n",
       "<style scoped>\n",
       "    .dataframe tbody tr th:only-of-type {\n",
       "        vertical-align: middle;\n",
       "    }\n",
       "\n",
       "    .dataframe tbody tr th {\n",
       "        vertical-align: top;\n",
       "    }\n",
       "\n",
       "    .dataframe thead th {\n",
       "        text-align: right;\n",
       "    }\n",
       "</style>\n",
       "<table border=\"1\" class=\"dataframe\">\n",
       "  <thead>\n",
       "    <tr style=\"text-align: right;\">\n",
       "      <th></th>\n",
       "      <th>weekday</th>\n",
       "      <th>year</th>\n",
       "      <th>month</th>\n",
       "      <th>day</th>\n",
       "      <th>hour</th>\n",
       "      <th>minute</th>\n",
       "      <th>second</th>\n",
       "      <th>Open_ask</th>\n",
       "      <th>High_ask</th>\n",
       "      <th>Low_ask</th>\n",
       "      <th>Close_ask</th>\n",
       "      <th>Volume_ask</th>\n",
       "      <th>Open_bid</th>\n",
       "      <th>High_bid</th>\n",
       "      <th>Low_bid</th>\n",
       "      <th>Close_bid</th>\n",
       "      <th>Volume_bid</th>\n",
       "    </tr>\n",
       "  </thead>\n",
       "  <tbody>\n",
       "    <tr>\n",
       "      <th>0</th>\n",
       "      <td>1</td>\n",
       "      <td>2019</td>\n",
       "      <td>1</td>\n",
       "      <td>1</td>\n",
       "      <td>0</td>\n",
       "      <td>0</td>\n",
       "      <td>0</td>\n",
       "      <td>1.56465</td>\n",
       "      <td>1.56465</td>\n",
       "      <td>1.56465</td>\n",
       "      <td>1.56465</td>\n",
       "      <td>0.0</td>\n",
       "      <td>1.56259</td>\n",
       "      <td>1.56259</td>\n",
       "      <td>1.56259</td>\n",
       "      <td>1.56259</td>\n",
       "      <td>0.0</td>\n",
       "    </tr>\n",
       "    <tr>\n",
       "      <th>1</th>\n",
       "      <td>1</td>\n",
       "      <td>2019</td>\n",
       "      <td>1</td>\n",
       "      <td>1</td>\n",
       "      <td>0</td>\n",
       "      <td>1</td>\n",
       "      <td>0</td>\n",
       "      <td>1.56465</td>\n",
       "      <td>1.56465</td>\n",
       "      <td>1.56465</td>\n",
       "      <td>1.56465</td>\n",
       "      <td>0.0</td>\n",
       "      <td>1.56259</td>\n",
       "      <td>1.56259</td>\n",
       "      <td>1.56259</td>\n",
       "      <td>1.56259</td>\n",
       "      <td>0.0</td>\n",
       "    </tr>\n",
       "    <tr>\n",
       "      <th>2</th>\n",
       "      <td>1</td>\n",
       "      <td>2019</td>\n",
       "      <td>1</td>\n",
       "      <td>1</td>\n",
       "      <td>0</td>\n",
       "      <td>2</td>\n",
       "      <td>0</td>\n",
       "      <td>1.56465</td>\n",
       "      <td>1.56465</td>\n",
       "      <td>1.56465</td>\n",
       "      <td>1.56465</td>\n",
       "      <td>0.0</td>\n",
       "      <td>1.56259</td>\n",
       "      <td>1.56259</td>\n",
       "      <td>1.56259</td>\n",
       "      <td>1.56259</td>\n",
       "      <td>0.0</td>\n",
       "    </tr>\n",
       "    <tr>\n",
       "      <th>3</th>\n",
       "      <td>1</td>\n",
       "      <td>2019</td>\n",
       "      <td>1</td>\n",
       "      <td>1</td>\n",
       "      <td>0</td>\n",
       "      <td>3</td>\n",
       "      <td>0</td>\n",
       "      <td>1.56465</td>\n",
       "      <td>1.56465</td>\n",
       "      <td>1.56465</td>\n",
       "      <td>1.56465</td>\n",
       "      <td>0.0</td>\n",
       "      <td>1.56259</td>\n",
       "      <td>1.56259</td>\n",
       "      <td>1.56259</td>\n",
       "      <td>1.56259</td>\n",
       "      <td>0.0</td>\n",
       "    </tr>\n",
       "    <tr>\n",
       "      <th>4</th>\n",
       "      <td>1</td>\n",
       "      <td>2019</td>\n",
       "      <td>1</td>\n",
       "      <td>1</td>\n",
       "      <td>0</td>\n",
       "      <td>4</td>\n",
       "      <td>0</td>\n",
       "      <td>1.56465</td>\n",
       "      <td>1.56465</td>\n",
       "      <td>1.56465</td>\n",
       "      <td>1.56465</td>\n",
       "      <td>0.0</td>\n",
       "      <td>1.56259</td>\n",
       "      <td>1.56259</td>\n",
       "      <td>1.56259</td>\n",
       "      <td>1.56259</td>\n",
       "      <td>0.0</td>\n",
       "    </tr>\n",
       "    <tr>\n",
       "      <th>...</th>\n",
       "      <td>...</td>\n",
       "      <td>...</td>\n",
       "      <td>...</td>\n",
       "      <td>...</td>\n",
       "      <td>...</td>\n",
       "      <td>...</td>\n",
       "      <td>...</td>\n",
       "      <td>...</td>\n",
       "      <td>...</td>\n",
       "      <td>...</td>\n",
       "      <td>...</td>\n",
       "      <td>...</td>\n",
       "      <td>...</td>\n",
       "      <td>...</td>\n",
       "      <td>...</td>\n",
       "      <td>...</td>\n",
       "      <td>...</td>\n",
       "    </tr>\n",
       "    <tr>\n",
       "      <th>974875</th>\n",
       "      <td>5</td>\n",
       "      <td>2020</td>\n",
       "      <td>11</td>\n",
       "      <td>7</td>\n",
       "      <td>23</td>\n",
       "      <td>55</td>\n",
       "      <td>0</td>\n",
       "      <td>1.55079</td>\n",
       "      <td>1.55079</td>\n",
       "      <td>1.55079</td>\n",
       "      <td>1.55079</td>\n",
       "      <td>0.0</td>\n",
       "      <td>1.54991</td>\n",
       "      <td>1.54991</td>\n",
       "      <td>1.54991</td>\n",
       "      <td>1.54991</td>\n",
       "      <td>0.0</td>\n",
       "    </tr>\n",
       "    <tr>\n",
       "      <th>974876</th>\n",
       "      <td>5</td>\n",
       "      <td>2020</td>\n",
       "      <td>11</td>\n",
       "      <td>7</td>\n",
       "      <td>23</td>\n",
       "      <td>56</td>\n",
       "      <td>0</td>\n",
       "      <td>1.55079</td>\n",
       "      <td>1.55079</td>\n",
       "      <td>1.55079</td>\n",
       "      <td>1.55079</td>\n",
       "      <td>0.0</td>\n",
       "      <td>1.54991</td>\n",
       "      <td>1.54991</td>\n",
       "      <td>1.54991</td>\n",
       "      <td>1.54991</td>\n",
       "      <td>0.0</td>\n",
       "    </tr>\n",
       "    <tr>\n",
       "      <th>974877</th>\n",
       "      <td>5</td>\n",
       "      <td>2020</td>\n",
       "      <td>11</td>\n",
       "      <td>7</td>\n",
       "      <td>23</td>\n",
       "      <td>57</td>\n",
       "      <td>0</td>\n",
       "      <td>1.55079</td>\n",
       "      <td>1.55079</td>\n",
       "      <td>1.55079</td>\n",
       "      <td>1.55079</td>\n",
       "      <td>0.0</td>\n",
       "      <td>1.54991</td>\n",
       "      <td>1.54991</td>\n",
       "      <td>1.54991</td>\n",
       "      <td>1.54991</td>\n",
       "      <td>0.0</td>\n",
       "    </tr>\n",
       "    <tr>\n",
       "      <th>974878</th>\n",
       "      <td>5</td>\n",
       "      <td>2020</td>\n",
       "      <td>11</td>\n",
       "      <td>7</td>\n",
       "      <td>23</td>\n",
       "      <td>58</td>\n",
       "      <td>0</td>\n",
       "      <td>1.55079</td>\n",
       "      <td>1.55079</td>\n",
       "      <td>1.55079</td>\n",
       "      <td>1.55079</td>\n",
       "      <td>0.0</td>\n",
       "      <td>1.54991</td>\n",
       "      <td>1.54991</td>\n",
       "      <td>1.54991</td>\n",
       "      <td>1.54991</td>\n",
       "      <td>0.0</td>\n",
       "    </tr>\n",
       "    <tr>\n",
       "      <th>974879</th>\n",
       "      <td>5</td>\n",
       "      <td>2020</td>\n",
       "      <td>11</td>\n",
       "      <td>7</td>\n",
       "      <td>23</td>\n",
       "      <td>59</td>\n",
       "      <td>0</td>\n",
       "      <td>1.55079</td>\n",
       "      <td>1.55079</td>\n",
       "      <td>1.55079</td>\n",
       "      <td>1.55079</td>\n",
       "      <td>0.0</td>\n",
       "      <td>1.54991</td>\n",
       "      <td>1.54991</td>\n",
       "      <td>1.54991</td>\n",
       "      <td>1.54991</td>\n",
       "      <td>0.0</td>\n",
       "    </tr>\n",
       "  </tbody>\n",
       "</table>\n",
       "<p>974880 rows × 17 columns</p>\n",
       "</div>"
      ],
      "text/plain": [
       "        weekday  year  month  day  hour  minute  second  Open_ask  High_ask  \\\n",
       "0             1  2019      1    1     0       0       0   1.56465   1.56465   \n",
       "1             1  2019      1    1     0       1       0   1.56465   1.56465   \n",
       "2             1  2019      1    1     0       2       0   1.56465   1.56465   \n",
       "3             1  2019      1    1     0       3       0   1.56465   1.56465   \n",
       "4             1  2019      1    1     0       4       0   1.56465   1.56465   \n",
       "...         ...   ...    ...  ...   ...     ...     ...       ...       ...   \n",
       "974875        5  2020     11    7    23      55       0   1.55079   1.55079   \n",
       "974876        5  2020     11    7    23      56       0   1.55079   1.55079   \n",
       "974877        5  2020     11    7    23      57       0   1.55079   1.55079   \n",
       "974878        5  2020     11    7    23      58       0   1.55079   1.55079   \n",
       "974879        5  2020     11    7    23      59       0   1.55079   1.55079   \n",
       "\n",
       "        Low_ask  Close_ask  Volume_ask  Open_bid  High_bid  Low_bid  \\\n",
       "0       1.56465    1.56465         0.0   1.56259   1.56259  1.56259   \n",
       "1       1.56465    1.56465         0.0   1.56259   1.56259  1.56259   \n",
       "2       1.56465    1.56465         0.0   1.56259   1.56259  1.56259   \n",
       "3       1.56465    1.56465         0.0   1.56259   1.56259  1.56259   \n",
       "4       1.56465    1.56465         0.0   1.56259   1.56259  1.56259   \n",
       "...         ...        ...         ...       ...       ...      ...   \n",
       "974875  1.55079    1.55079         0.0   1.54991   1.54991  1.54991   \n",
       "974876  1.55079    1.55079         0.0   1.54991   1.54991  1.54991   \n",
       "974877  1.55079    1.55079         0.0   1.54991   1.54991  1.54991   \n",
       "974878  1.55079    1.55079         0.0   1.54991   1.54991  1.54991   \n",
       "974879  1.55079    1.55079         0.0   1.54991   1.54991  1.54991   \n",
       "\n",
       "        Close_bid  Volume_bid  \n",
       "0         1.56259         0.0  \n",
       "1         1.56259         0.0  \n",
       "2         1.56259         0.0  \n",
       "3         1.56259         0.0  \n",
       "4         1.56259         0.0  \n",
       "...           ...         ...  \n",
       "974875    1.54991         0.0  \n",
       "974876    1.54991         0.0  \n",
       "974877    1.54991         0.0  \n",
       "974878    1.54991         0.0  \n",
       "974879    1.54991         0.0  \n",
       "\n",
       "[974880 rows x 17 columns]"
      ]
     },
     "execution_count": 7,
     "metadata": {},
     "output_type": "execute_result"
    }
   ],
   "source": [
    "data"
   ]
  },
  {
   "cell_type": "code",
   "execution_count": 8,
   "metadata": {
    "colab": {
     "base_uri": "https://localhost:8080/",
     "height": 501
    },
    "executionInfo": {
     "elapsed": 19121,
     "status": "ok",
     "timestamp": 1605628345057,
     "user": {
      "displayName": "Mehran Rafiee",
      "photoUrl": "https://lh3.googleusercontent.com/a-/AOh14GjQaHXsiVw_zEqB7kTEkcJH9xNZQOVSwFQq5XpI5A=s64",
      "userId": "04953844480447339945"
     },
     "user_tz": -210
    },
    "id": "kOInjUFW9RMF",
    "outputId": "06dbebe8-bb0e-4ee5-99f7-78b7ae89aca3"
   },
   "outputs": [
    {
     "data": {
      "text/plain": [
       "<AxesSubplot:>"
      ]
     },
     "execution_count": 8,
     "metadata": {},
     "output_type": "execute_result"
    },
    {
     "data": {
      "image/png": "[encoded data removed]",
      "text/plain": [
       "<Figure size 1080x576 with 1 Axes>"
      ]
     },
     "metadata": {
      "needs_background": "light"
     },
     "output_type": "display_data"
    }
   ],
   "source": [
    "idx_start = 200000\n",
    "idx_end = 200100\n",
    "\n",
    "data[['Close_bid', 'Close_ask' ]][idx_start:idx_end].plot(figsize=(15, 8))"
   ]
  },
  {
   "cell_type": "code",
   "execution_count": 9,
   "metadata": {
    "colab": {
     "base_uri": "https://localhost:8080/",
     "height": 501
    },
    "executionInfo": {
     "elapsed": 19645,
     "status": "ok",
     "timestamp": 1605628345595,
     "user": {
      "displayName": "Mehran Rafiee",
      "photoUrl": "https://lh3.googleusercontent.com/a-/AOh14GjQaHXsiVw_zEqB7kTEkcJH9xNZQOVSwFQq5XpI5A=s64",
      "userId": "04953844480447339945"
     },
     "user_tz": -210
    },
    "id": "P8wLNwho6D7q",
    "outputId": "2d0ed856-f433-49d1-e762-951d818602c4"
   },
   "outputs": [
    {
     "data": {
      "text/plain": [
       "<AxesSubplot:>"
      ]
     },
     "execution_count": 9,
     "metadata": {},
     "output_type": "execute_result"
    },
    {
     "data": {
      "image/png": "[encoded data removed]",
      "text/plain": [
       "<Figure size 1080x576 with 1 Axes>"
      ]
     },
     "metadata": {
      "needs_background": "light"
     },
     "output_type": "display_data"
    }
   ],
   "source": [
    "data[['Volume_ask', 'Volume_bid']][idx_start:idx_end].plot(figsize=(15, 8))"
   ]
  },
  {
   "cell_type": "code",
   "execution_count": 10,
   "metadata": {
    "colab": {
     "base_uri": "https://localhost:8080/"
    },
    "executionInfo": {
     "elapsed": 23027,
     "status": "ok",
     "timestamp": 1605628348986,
     "user": {
      "displayName": "Mehran Rafiee",
      "photoUrl": "https://lh3.googleusercontent.com/a-/AOh14GjQaHXsiVw_zEqB7kTEkcJH9xNZQOVSwFQq5XpI5A=s64",
      "userId": "04953844480447339945"
     },
     "user_tz": -210
    },
    "id": "YrtZKw4p7b63",
    "outputId": "fb7bf60c-4adc-43b6-d8a8-d3cba8a69088"
   },
   "outputs": [
    {
     "name": "stdout",
     "output_type": "stream",
     "text": [
      "(731160, 7)\n",
      "(243720,)\n"
     ]
    }
   ],
   "source": [
    "from sklearn.model_selection import train_test_split\n",
    "\n",
    "X = data.drop(['Open_ask',\t'High_ask',\t'Low_ask',\t'Close_ask',\t'Open_bid',\t'High_bid',\t'Low_bid',\n",
    "               'Close_bid', 'Volume_ask',\t'Volume_bid'], axis=1)\n",
    "# y = data[['Open_ask',\t'High_ask',\t'Low_ask',\t'Close_ask',\t'Open_bid',\t'High_bid',\t'Low_bid',\t'Close_bid']]\n",
    "y = data['Close_bid']\n",
    "\n",
    "X_train, X_test, y_train, y_test = train_test_split(X, y, shuffle=False)\n",
    "print(X_train.shape)\n",
    "print(y_test.shape)"
   ]
  },
  {
   "cell_type": "code",
   "execution_count": 11,
   "metadata": {
    "colab": {
     "base_uri": "https://localhost:8080/"
    },
    "executionInfo": {
     "elapsed": 23019,
     "status": "ok",
     "timestamp": 1605628348987,
     "user": {
      "displayName": "Mehran Rafiee",
      "photoUrl": "https://lh3.googleusercontent.com/a-/AOh14GjQaHXsiVw_zEqB7kTEkcJH9xNZQOVSwFQq5XpI5A=s64",
      "userId": "04953844480447339945"
     },
     "user_tz": -210
    },
    "id": "2uzmcKllcvXm",
    "outputId": "259265b6-47d0-443f-9798-6e7b00c153da"
   },
   "outputs": [
    {
     "data": {
      "text/plain": [
       "0         1.56259\n",
       "1         1.56259\n",
       "2         1.56259\n",
       "3         1.56259\n",
       "4         1.56259\n",
       "           ...   \n",
       "731155    1.52534\n",
       "731156    1.52520\n",
       "731157    1.52511\n",
       "731158    1.52513\n",
       "731159    1.52525\n",
       "Name: Close_bid, Length: 731160, dtype: float64"
      ]
     },
     "execution_count": 11,
     "metadata": {},
     "output_type": "execute_result"
    }
   ],
   "source": [
    "y_train"
   ]
  },
  {
   "cell_type": "code",
   "execution_count": 12,
   "metadata": {
    "colab": {
     "base_uri": "https://localhost:8080/"
    },
    "executionInfo": {
     "elapsed": 21792,
     "status": "ok",
     "timestamp": 1605628348990,
     "user": {
      "displayName": "Mehran Rafiee",
      "photoUrl": "https://lh3.googleusercontent.com/a-/AOh14GjQaHXsiVw_zEqB7kTEkcJH9xNZQOVSwFQq5XpI5A=s64",
      "userId": "04953844480447339945"
     },
     "user_tz": -210
    },
    "id": "Y_J2_DHDB1Zh",
    "outputId": "ee5d72f2-2502-461a-f59f-02e28eec7e2c"
   },
   "outputs": [
    {
     "name": "stderr",
     "output_type": "stream",
     "text": [
      "<ipython-input-12-712c22f881b3>:2: SettingWithCopyWarning: \n",
      "A value is trying to be set on a copy of a slice from a DataFrame.\n",
      "Try using .loc[row_indexer,col_indexer] = value instead\n",
      "\n",
      "See the caveats in the documentation: https://pandas.pydata.org/pandas-docs/stable/user_guide/indexing.html#returning-a-view-versus-a-copy\n",
      "  X_train['cbm'] = cbm10\n",
      "<ipython-input-12-712c22f881b3>:3: SettingWithCopyWarning: \n",
      "A value is trying to be set on a copy of a slice from a DataFrame\n",
      "\n",
      "See the caveats in the documentation: https://pandas.pydata.org/pandas-docs/stable/user_guide/indexing.html#returning-a-view-versus-a-copy\n",
      "  X_train['cbm'][:10] = X_train['cbm'][10]\n",
      "/home/mehran/anaconda3/lib/python3.8/site-packages/pandas/core/series.py:1042: SettingWithCopyWarning: \n",
      "A value is trying to be set on a copy of a slice from a DataFrame\n",
      "\n",
      "See the caveats in the documentation: https://pandas.pydata.org/pandas-docs/stable/user_guide/indexing.html#returning-a-view-versus-a-copy\n",
      "  self._set_with(key, value)\n",
      "/home/mehran/anaconda3/lib/python3.8/site-packages/IPython/core/interactiveshell.py:3343: SettingWithCopyWarning: \n",
      "A value is trying to be set on a copy of a slice from a DataFrame\n",
      "\n",
      "See the caveats in the documentation: https://pandas.pydata.org/pandas-docs/stable/user_guide/indexing.html#returning-a-view-versus-a-copy\n",
      "  exec(code_obj, self.user_global_ns, self.user_ns)\n"
     ]
    }
   ],
   "source": [
    "cbm10 = y_train.rolling(8).mean()\n",
    "X_train['cbm'] = cbm10\n",
    "X_train['cbm'][:10] = X_train['cbm'][10]"
   ]
  },
  {
   "cell_type": "code",
   "execution_count": 15,
   "metadata": {
    "executionInfo": {
     "elapsed": 11759,
     "status": "ok",
     "timestamp": 1605628348992,
     "user": {
      "displayName": "Mehran Rafiee",
      "photoUrl": "https://lh3.googleusercontent.com/a-/AOh14GjQaHXsiVw_zEqB7kTEkcJH9xNZQOVSwFQq5XpI5A=s64",
      "userId": "04953844480447339945"
     },
     "user_tz": -210
    },
    "id": "K0BJmLeRW_P6"
   },
   "outputs": [],
   "source": [
    "def plot_performance(preds, truth, start, forward=1000):\n",
    "    if forward == -1:\n",
    "        end = len(y_preds)\n",
    "    else:\n",
    "        end = start + forward\n",
    "\n",
    "    plt.figure(figsize=(15, 10))\n",
    "    plt.plot(preds[start: end], label='predicted')\n",
    "    plt.plot(truth[start: end], label='ground truth')\n",
    "    plt.legend()"
   ]
  },
  {
   "cell_type": "markdown",
   "metadata": {
    "id": "Dh_s4JlC7PnA"
   },
   "source": [
    "# Baseline Models"
   ]
  },
  {
   "cell_type": "markdown",
   "metadata": {
    "id": "pHM_Fz5XS7Nu"
   },
   "source": [
    "## Ada Boost"
   ]
  },
  {
   "cell_type": "code",
   "execution_count": null,
   "metadata": {
    "colab": {
     "base_uri": "https://localhost:8080/"
    },
    "executionInfo": {
     "elapsed": 272148,
     "status": "ok",
     "timestamp": 1605560946214,
     "user": {
      "displayName": "Mehran Rafiee",
      "photoUrl": "https://lh3.googleusercontent.com/a-/AOh14GjQaHXsiVw_zEqB7kTEkcJH9xNZQOVSwFQq5XpI5A=s64",
      "userId": "04953844480447339945"
     },
     "user_tz": -210
    },
    "id": "ZTi6i6Gt4Uh3",
    "outputId": "dcc3325b-7dfc-4f4a-94fe-f60d8db70b14"
   },
   "outputs": [
    {
     "data": {
      "text/plain": [
       "0.991819547733227"
      ]
     },
     "execution_count": 18,
     "metadata": {
      "tags": []
     },
     "output_type": "execute_result"
    }
   ],
   "source": [
    "from sklearn.ensemble import AdaBoostRegressor\n",
    "\n",
    "regr = AdaBoostRegressor(random_state=0, n_estimators=200, loss='exponential', learning_rate=0.5)\n",
    "regr.fit(X_train, y_train)\n",
    "regr.score(X_train, y_train)"
   ]
  },
  {
   "cell_type": "code",
   "execution_count": null,
   "metadata": {
    "colab": {
     "base_uri": "https://localhost:8080/",
     "height": 513
    },
    "executionInfo": {
     "elapsed": 1450,
     "status": "ok",
     "timestamp": 1605561554919,
     "user": {
      "displayName": "Mehran Rafiee",
      "photoUrl": "https://lh3.googleusercontent.com/a-/AOh14GjQaHXsiVw_zEqB7kTEkcJH9xNZQOVSwFQq5XpI5A=s64",
      "userId": "04953844480447339945"
     },
     "user_tz": -210
    },
    "id": "_IPaR13LuIU0",
    "outputId": "841e2b82-a8d5-4943-db83-53281f365f60"
   },
   "outputs": [
    {
     "name": "stderr",
     "output_type": "stream",
     "text": [
      "/usr/local/lib/python3.6/dist-packages/ipykernel_launcher.py:1: SettingWithCopyWarning: \n",
      "A value is trying to be set on a copy of a slice from a DataFrame.\n",
      "Try using .loc[row_indexer,col_indexer] = value instead\n",
      "\n",
      "See the caveats in the documentation: https://pandas.pydata.org/pandas-docs/stable/user_guide/indexing.html#returning-a-view-versus-a-copy\n",
      "  \"\"\"Entry point for launching an IPython kernel.\n"
     ]
    },
    {
     "data": {
      "text/html": [
       "<div>\n",
       "<style scoped>\n",
       "    .dataframe tbody tr th:only-of-type {\n",
       "        vertical-align: middle;\n",
       "    }\n",
       "\n",
       "    .dataframe tbody tr th {\n",
       "        vertical-align: top;\n",
       "    }\n",
       "\n",
       "    .dataframe thead th {\n",
       "        text-align: right;\n",
       "    }\n",
       "</style>\n",
       "<table border=\"1\" class=\"dataframe\">\n",
       "  <thead>\n",
       "    <tr style=\"text-align: right;\">\n",
       "      <th></th>\n",
       "      <th>weekday</th>\n",
       "      <th>year</th>\n",
       "      <th>month</th>\n",
       "      <th>day</th>\n",
       "      <th>hour</th>\n",
       "      <th>minute</th>\n",
       "      <th>second</th>\n",
       "      <th>cbm</th>\n",
       "    </tr>\n",
       "  </thead>\n",
       "  <tbody>\n",
       "    <tr>\n",
       "      <th>731160</th>\n",
       "      <td>4</td>\n",
       "      <td>2020</td>\n",
       "      <td>5</td>\n",
       "      <td>22</td>\n",
       "      <td>18</td>\n",
       "      <td>0</td>\n",
       "      <td>0</td>\n",
       "      <td>0.0</td>\n",
       "    </tr>\n",
       "    <tr>\n",
       "      <th>731161</th>\n",
       "      <td>4</td>\n",
       "      <td>2020</td>\n",
       "      <td>5</td>\n",
       "      <td>22</td>\n",
       "      <td>18</td>\n",
       "      <td>1</td>\n",
       "      <td>0</td>\n",
       "      <td>0.0</td>\n",
       "    </tr>\n",
       "    <tr>\n",
       "      <th>731162</th>\n",
       "      <td>4</td>\n",
       "      <td>2020</td>\n",
       "      <td>5</td>\n",
       "      <td>22</td>\n",
       "      <td>18</td>\n",
       "      <td>2</td>\n",
       "      <td>0</td>\n",
       "      <td>0.0</td>\n",
       "    </tr>\n",
       "    <tr>\n",
       "      <th>731163</th>\n",
       "      <td>4</td>\n",
       "      <td>2020</td>\n",
       "      <td>5</td>\n",
       "      <td>22</td>\n",
       "      <td>18</td>\n",
       "      <td>3</td>\n",
       "      <td>0</td>\n",
       "      <td>0.0</td>\n",
       "    </tr>\n",
       "    <tr>\n",
       "      <th>731164</th>\n",
       "      <td>4</td>\n",
       "      <td>2020</td>\n",
       "      <td>5</td>\n",
       "      <td>22</td>\n",
       "      <td>18</td>\n",
       "      <td>4</td>\n",
       "      <td>0</td>\n",
       "      <td>0.0</td>\n",
       "    </tr>\n",
       "    <tr>\n",
       "      <th>...</th>\n",
       "      <td>...</td>\n",
       "      <td>...</td>\n",
       "      <td>...</td>\n",
       "      <td>...</td>\n",
       "      <td>...</td>\n",
       "      <td>...</td>\n",
       "      <td>...</td>\n",
       "      <td>...</td>\n",
       "    </tr>\n",
       "    <tr>\n",
       "      <th>974875</th>\n",
       "      <td>5</td>\n",
       "      <td>2020</td>\n",
       "      <td>11</td>\n",
       "      <td>7</td>\n",
       "      <td>23</td>\n",
       "      <td>55</td>\n",
       "      <td>0</td>\n",
       "      <td>0.0</td>\n",
       "    </tr>\n",
       "    <tr>\n",
       "      <th>974876</th>\n",
       "      <td>5</td>\n",
       "      <td>2020</td>\n",
       "      <td>11</td>\n",
       "      <td>7</td>\n",
       "      <td>23</td>\n",
       "      <td>56</td>\n",
       "      <td>0</td>\n",
       "      <td>0.0</td>\n",
       "    </tr>\n",
       "    <tr>\n",
       "      <th>974877</th>\n",
       "      <td>5</td>\n",
       "      <td>2020</td>\n",
       "      <td>11</td>\n",
       "      <td>7</td>\n",
       "      <td>23</td>\n",
       "      <td>57</td>\n",
       "      <td>0</td>\n",
       "      <td>0.0</td>\n",
       "    </tr>\n",
       "    <tr>\n",
       "      <th>974878</th>\n",
       "      <td>5</td>\n",
       "      <td>2020</td>\n",
       "      <td>11</td>\n",
       "      <td>7</td>\n",
       "      <td>23</td>\n",
       "      <td>58</td>\n",
       "      <td>0</td>\n",
       "      <td>0.0</td>\n",
       "    </tr>\n",
       "    <tr>\n",
       "      <th>974879</th>\n",
       "      <td>5</td>\n",
       "      <td>2020</td>\n",
       "      <td>11</td>\n",
       "      <td>7</td>\n",
       "      <td>23</td>\n",
       "      <td>59</td>\n",
       "      <td>0</td>\n",
       "      <td>0.0</td>\n",
       "    </tr>\n",
       "  </tbody>\n",
       "</table>\n",
       "<p>243720 rows × 8 columns</p>\n",
       "</div>"
      ],
      "text/plain": [
       "        weekday  year  month  day  hour  minute  second  cbm\n",
       "731160        4  2020      5   22    18       0       0  0.0\n",
       "731161        4  2020      5   22    18       1       0  0.0\n",
       "731162        4  2020      5   22    18       2       0  0.0\n",
       "731163        4  2020      5   22    18       3       0  0.0\n",
       "731164        4  2020      5   22    18       4       0  0.0\n",
       "...         ...   ...    ...  ...   ...     ...     ...  ...\n",
       "974875        5  2020     11    7    23      55       0  0.0\n",
       "974876        5  2020     11    7    23      56       0  0.0\n",
       "974877        5  2020     11    7    23      57       0  0.0\n",
       "974878        5  2020     11    7    23      58       0  0.0\n",
       "974879        5  2020     11    7    23      59       0  0.0\n",
       "\n",
       "[243720 rows x 8 columns]"
      ]
     },
     "execution_count": 20,
     "metadata": {
      "tags": []
     },
     "output_type": "execute_result"
    }
   ],
   "source": [
    "X_test['cbm'] = np.zeros((y_test.shape[0], 1))\n",
    "X_test"
   ]
  },
  {
   "cell_type": "code",
   "execution_count": null,
   "metadata": {
    "id": "TdZcESiJ9M8E"
   },
   "outputs": [],
   "source": []
  },
  {
   "cell_type": "code",
   "execution_count": null,
   "metadata": {
    "colab": {
     "base_uri": "https://localhost:8080/"
    },
    "executionInfo": {
     "elapsed": 2073,
     "status": "ok",
     "timestamp": 1605561558522,
     "user": {
      "displayName": "Mehran Rafiee",
      "photoUrl": "https://lh3.googleusercontent.com/a-/AOh14GjQaHXsiVw_zEqB7kTEkcJH9xNZQOVSwFQq5XpI5A=s64",
      "userId": "04953844480447339945"
     },
     "user_tz": -210
    },
    "id": "txx_JrvQfQbE",
    "outputId": "d4eccc6c-ab57-4452-ec53-ad6c13cf25d4"
   },
   "outputs": [
    {
     "name": "stderr",
     "output_type": "stream",
     "text": [
      "/usr/local/lib/python3.6/dist-packages/pandas/core/indexing.py:670: SettingWithCopyWarning: \n",
      "A value is trying to be set on a copy of a slice from a DataFrame\n",
      "\n",
      "See the caveats in the documentation: https://pandas.pydata.org/pandas-docs/stable/user_guide/indexing.html#returning-a-view-versus-a-copy\n",
      "  iloc._setitem_with_indexer(indexer, value)\n",
      "/usr/local/lib/python3.6/dist-packages/ipykernel_launcher.py:2: SettingWithCopyWarning: \n",
      "A value is trying to be set on a copy of a slice from a DataFrame\n",
      "\n",
      "See the caveats in the documentation: https://pandas.pydata.org/pandas-docs/stable/user_guide/indexing.html#returning-a-view-versus-a-copy\n",
      "  \n"
     ]
    },
    {
     "data": {
      "text/plain": [
       "weekday       4.0\n",
       "year       2020.0\n",
       "month         5.0\n",
       "day          22.0\n",
       "hour         18.0\n",
       "minute        0.0\n",
       "second        0.0\n",
       "cbm           1.0\n",
       "Name: 731160, dtype: float64"
      ]
     },
     "execution_count": 21,
     "metadata": {
      "tags": []
     },
     "output_type": "execute_result"
    }
   ],
   "source": [
    "item = X_test.iloc[0]\n",
    "item.iloc[[-1]] = 1\n",
    "item"
   ]
  },
  {
   "cell_type": "code",
   "execution_count": null,
   "metadata": {
    "id": "sabaHYBD5266"
   },
   "outputs": [],
   "source": [
    "def predict(X_test, y_train, verbose=1):\n",
    "  size = y_train.shape[0]\n",
    "\n",
    "  y_preds = np.zeros(X_test.shape[0])\n",
    "  y_preds[0] = np.mean(y_train.values[size-8:])\n",
    "\n",
    "  for index in range(8):\n",
    "     item = X_test.iloc[index].values\n",
    "     item[-1] = (np.sum(y_train.values[size-(8 - index):]) + np.sum(y_preds[:index]))/8\n",
    "     y_preds[index] = regr.predict(item.reshape(1, -1))\n",
    "\n",
    "  for index in range(8, X_test.shape[0]):   \n",
    "    item = X_test.iloc[index].values\n",
    "    item[-1] = np.mean(y_preds[index-8: index])\n",
    "    y_preds[index] = regr.predict(item.reshape(1, -1))\n",
    "\n",
    "    if verbose==1 and index % 100 == 0:\n",
    "      # print('fwe')\n",
    "      print(\"\", end='\\r{:.2f} has completed'.format((index/y_preds.shape[0])*100))\n",
    "      # sys.stdout.flush()\n",
    "  print('')\n",
    "  return y_preds"
   ]
  },
  {
   "cell_type": "code",
   "execution_count": null,
   "metadata": {
    "colab": {
     "base_uri": "https://localhost:8080/"
    },
    "executionInfo": {
     "elapsed": 2302225,
     "status": "ok",
     "timestamp": 1605566265535,
     "user": {
      "displayName": "Mehran Rafiee",
      "photoUrl": "https://lh3.googleusercontent.com/a-/AOh14GjQaHXsiVw_zEqB7kTEkcJH9xNZQOVSwFQq5XpI5A=s64",
      "userId": "04953844480447339945"
     },
     "user_tz": -210
    },
    "id": "7pzA1IEx_QxR",
    "outputId": "2685daa3-7d07-4024-9e14-d64f1f5a5476"
   },
   "outputs": [
    {
     "name": "stdout",
     "output_type": "stream",
     "text": [
      "99.99 has completed\n"
     ]
    },
    {
     "data": {
      "text/plain": [
       "array([1.52817054, 1.52802546, 1.52778767, 1.52778767, 1.52778767,\n",
       "       1.52778767, 1.52778767, 1.52778767, 1.52784017, 1.52778767])"
      ]
     },
     "execution_count": 77,
     "metadata": {
      "tags": []
     },
     "output_type": "execute_result"
    }
   ],
   "source": [
    "y_preds = predict(X_test, y_train)\n",
    "y_preds[:10]"
   ]
  },
  {
   "cell_type": "code",
   "execution_count": null,
   "metadata": {
    "colab": {
     "base_uri": "https://localhost:8080/",
     "height": 592
    },
    "executionInfo": {
     "elapsed": 1525,
     "status": "ok",
     "timestamp": 1605566271374,
     "user": {
      "displayName": "Mehran Rafiee",
      "photoUrl": "https://lh3.googleusercontent.com/a-/AOh14GjQaHXsiVw_zEqB7kTEkcJH9xNZQOVSwFQq5XpI5A=s64",
      "userId": "04953844480447339945"
     },
     "user_tz": -210
    },
    "id": "6EuLnJr4WV4k",
    "outputId": "2b6227fa-7b21-41f1-cffb-1e1a1040cfd7"
   },
   "outputs": [
    {
     "data": {
      "image/png": "[encoded data removed]",
      "text/plain": [
       "<Figure size 1080x720 with 1 Axes>"
      ]
     },
     "metadata": {
      "needs_background": "light",
      "tags": []
     },
     "output_type": "display_data"
    }
   ],
   "source": [
    "plot_performance(y_preds, y_test.to_numpy(), 0, forward=10000)"
   ]
  },
  {
   "cell_type": "markdown",
   "metadata": {
    "id": "Rhp9GPm4emuQ"
   },
   "source": [
    "## LSTM"
   ]
  },
  {
   "cell_type": "code",
   "execution_count": 25,
   "metadata": {},
   "outputs": [
    {
     "ename": "TypeError",
     "evalue": "expected np.ndarray (got builtin_function_or_method)",
     "output_type": "error",
     "traceback": [
      "\u001b[0;31m---------------------------------------------------------------------------\u001b[0m",
      "\u001b[0;31mTypeError\u001b[0m                                 Traceback (most recent call last)",
      "\u001b[0;32m<ipython-input-25-b29e473b506e>\u001b[0m in \u001b[0;36m<module>\u001b[0;34m\u001b[0m\n\u001b[0;32m----> 1\u001b[0;31m \u001b[0mX_train\u001b[0m \u001b[0;34m=\u001b[0m \u001b[0mtorch\u001b[0m\u001b[0;34m.\u001b[0m\u001b[0mfrom_numpy\u001b[0m\u001b[0;34m(\u001b[0m\u001b[0mX_train\u001b[0m\u001b[0;34m.\u001b[0m\u001b[0mvalues\u001b[0m\u001b[0;34m)\u001b[0m\u001b[0;34m\u001b[0m\u001b[0;34m\u001b[0m\u001b[0m\n\u001b[0m\u001b[1;32m      2\u001b[0m \u001b[0my_train\u001b[0m \u001b[0;34m=\u001b[0m \u001b[0mtorch\u001b[0m\u001b[0;34m.\u001b[0m\u001b[0mfrom_numpy\u001b[0m\u001b[0;34m(\u001b[0m\u001b[0my_train\u001b[0m\u001b[0;34m.\u001b[0m\u001b[0mvalues\u001b[0m\u001b[0;34m)\u001b[0m\u001b[0;34m\u001b[0m\u001b[0;34m\u001b[0m\u001b[0m\n",
      "\u001b[0;31mTypeError\u001b[0m: expected np.ndarray (got builtin_function_or_method)"
     ]
    }
   ],
   "source": [
    "X_train = torch.from_numpy(X_train.values)\n",
    "y_train = torch.from_numpy(y_train.values)"
   ]
  },
  {
   "cell_type": "code",
   "execution_count": null,
   "metadata": {
    "id": "wzSTw2RwemB_"
   },
   "outputs": [],
   "source": [
    "import torch\n",
    "import torch.nn as nn\n",
    "import torch.optim as optim\n",
    "import torch.nn.functional as F\n",
    "\n",
    "\n",
    "input_size = 8\n",
    "seq_length = 1\n",
    "num_layers = 2\n",
    "hidden_size = 256\n",
    "learning_rate = 0.001\n",
    "num_epochs = 3\n",
    "device = torch.device('cuda' if torch.cuda.is_available() else 'cpu')\n",
    "\n",
    "class RNN(nn.Module):\n",
    "    def __init__(self, input_size, hidden_size, seq_length, num_layers):\n",
    "        super(RNN, self).__init__()\n",
    "        self.hidden_size = hidden_size\n",
    "        self.num_layers = num_layers\n",
    "        \n",
    "        self.rnn = nn.RNN(input_size, hidden_size, num_layers)\n",
    "        self.fc = nn.Linear(hidden_size * seq_length, 1)\n",
    "        \n",
    "    def forward(self, x):\n",
    "        \n",
    "        h0 = torch.zeros(self.num_layers, x.size(0), self.hidden_size).to(device)\n",
    "        out, _ = self.rnn(x, h0)\n",
    "        out = out.reshape(out.size(0), -1)\n",
    "        out = self.fc(out)\n",
    "        \n",
    "        return out\n",
    "    \n",
    "    \n",
    "model = RNN(input_size, hidden_size, seq_length, num_layers)\n",
    "\n",
    "        "
   ]
  },
  {
   "cell_type": "code",
   "execution_count": 42,
   "metadata": {},
   "outputs": [],
   "source": [
    "critirion = nn.BCELoss()\n",
    "optimizer = optim.Adam(model.parameters(), lr=learning_rate)"
   ]
  },
  {
   "cell_type": "code",
   "execution_count": 43,
   "metadata": {},
   "outputs": [
    {
     "data": {
      "text/plain": [
       "tensor([[1.0000e+00, 2.0190e+03, 1.0000e+00,  ..., 0.0000e+00, 0.0000e+00,\n",
       "         1.5626e+00],\n",
       "        [1.0000e+00, 2.0190e+03, 1.0000e+00,  ..., 1.0000e+00, 0.0000e+00,\n",
       "         1.5626e+00],\n",
       "        [1.0000e+00, 2.0190e+03, 1.0000e+00,  ..., 2.0000e+00, 0.0000e+00,\n",
       "         1.5626e+00],\n",
       "        ...,\n",
       "        [4.0000e+00, 2.0200e+03, 5.0000e+00,  ..., 5.7000e+01, 0.0000e+00,\n",
       "         1.5254e+00],\n",
       "        [4.0000e+00, 2.0200e+03, 5.0000e+00,  ..., 5.8000e+01, 0.0000e+00,\n",
       "         1.5254e+00],\n",
       "        [4.0000e+00, 2.0200e+03, 5.0000e+00,  ..., 5.9000e+01, 0.0000e+00,\n",
       "         1.5253e+00]], dtype=torch.float64)"
      ]
     },
     "execution_count": 43,
     "metadata": {},
     "output_type": "execute_result"
    }
   ],
   "source": [
    "X_train.reshape(X_train.)"
   ]
  },
  {
   "cell_type": "code",
   "execution_count": 40,
   "metadata": {},
   "outputs": [
    {
     "name": "stdout",
     "output_type": "stream",
     "text": [
      "        weekday  year  month  day  hour  minute  second\n",
      "0             1  2019      1    1     0       0       0\n",
      "1             1  2019      1    1     0       1       0\n",
      "2             1  2019      1    1     0       2       0\n",
      "3             1  2019      1    1     0       3       0\n",
      "4             1  2019      1    1     0       4       0\n",
      "...         ...   ...    ...  ...   ...     ...     ...\n",
      "974875        5  2020     11    7    23      55       0\n",
      "974876        5  2020     11    7    23      56       0\n",
      "974877        5  2020     11    7    23      57       0\n",
      "974878        5  2020     11    7    23      58       0\n",
      "974879        5  2020     11    7    23      59       0\n",
      "\n",
      "[974880 rows x 7 columns]\n"
     ]
    },
    {
     "ename": "RuntimeError",
     "evalue": "input must have 3 dimensions, got 2",
     "output_type": "error",
     "traceback": [
      "\u001b[0;31m---------------------------------------------------------------------------\u001b[0m",
      "\u001b[0;31mRuntimeError\u001b[0m                              Traceback (most recent call last)",
      "\u001b[0;32m<ipython-input-40-a0bf605a30a5>\u001b[0m in \u001b[0;36m<module>\u001b[0;34m\u001b[0m\n\u001b[1;32m      1\u001b[0m \u001b[0;32mfor\u001b[0m \u001b[0mepoch\u001b[0m \u001b[0;32min\u001b[0m \u001b[0mrange\u001b[0m\u001b[0;34m(\u001b[0m\u001b[0mnum_epochs\u001b[0m\u001b[0;34m)\u001b[0m\u001b[0;34m:\u001b[0m\u001b[0;34m\u001b[0m\u001b[0;34m\u001b[0m\u001b[0m\n\u001b[0;32m----> 2\u001b[0;31m     \u001b[0mscores\u001b[0m \u001b[0;34m=\u001b[0m \u001b[0mmodel\u001b[0m\u001b[0;34m(\u001b[0m\u001b[0mX_train\u001b[0m\u001b[0;34m)\u001b[0m\u001b[0;34m\u001b[0m\u001b[0;34m\u001b[0m\u001b[0m\n\u001b[0m\u001b[1;32m      3\u001b[0m     \u001b[0mloss\u001b[0m \u001b[0;34m=\u001b[0m \u001b[0mcritirion\u001b[0m\u001b[0;34m(\u001b[0m\u001b[0mscores\u001b[0m\u001b[0;34m,\u001b[0m \u001b[0my_train\u001b[0m\u001b[0;34m)\u001b[0m\u001b[0;34m\u001b[0m\u001b[0;34m\u001b[0m\u001b[0m\n\u001b[1;32m      4\u001b[0m \u001b[0;34m\u001b[0m\u001b[0m\n\u001b[1;32m      5\u001b[0m     \u001b[0moptimizer\u001b[0m\u001b[0;34m.\u001b[0m\u001b[0mzero_grad\u001b[0m\u001b[0;34m(\u001b[0m\u001b[0;34m)\u001b[0m\u001b[0;34m\u001b[0m\u001b[0;34m\u001b[0m\u001b[0m\n",
      "\u001b[0;32m~/anaconda3/lib/python3.8/site-packages/torch/nn/modules/module.py\u001b[0m in \u001b[0;36m_call_impl\u001b[0;34m(self, *input, **kwargs)\u001b[0m\n\u001b[1;32m    720\u001b[0m             \u001b[0mresult\u001b[0m \u001b[0;34m=\u001b[0m \u001b[0mself\u001b[0m\u001b[0;34m.\u001b[0m\u001b[0m_slow_forward\u001b[0m\u001b[0;34m(\u001b[0m\u001b[0;34m*\u001b[0m\u001b[0minput\u001b[0m\u001b[0;34m,\u001b[0m \u001b[0;34m**\u001b[0m\u001b[0mkwargs\u001b[0m\u001b[0;34m)\u001b[0m\u001b[0;34m\u001b[0m\u001b[0;34m\u001b[0m\u001b[0m\n\u001b[1;32m    721\u001b[0m         \u001b[0;32melse\u001b[0m\u001b[0;34m:\u001b[0m\u001b[0;34m\u001b[0m\u001b[0;34m\u001b[0m\u001b[0m\n\u001b[0;32m--> 722\u001b[0;31m             \u001b[0mresult\u001b[0m \u001b[0;34m=\u001b[0m \u001b[0mself\u001b[0m\u001b[0;34m.\u001b[0m\u001b[0mforward\u001b[0m\u001b[0;34m(\u001b[0m\u001b[0;34m*\u001b[0m\u001b[0minput\u001b[0m\u001b[0;34m,\u001b[0m \u001b[0;34m**\u001b[0m\u001b[0mkwargs\u001b[0m\u001b[0;34m)\u001b[0m\u001b[0;34m\u001b[0m\u001b[0;34m\u001b[0m\u001b[0m\n\u001b[0m\u001b[1;32m    723\u001b[0m         for hook in itertools.chain(\n\u001b[1;32m    724\u001b[0m                 \u001b[0m_global_forward_hooks\u001b[0m\u001b[0;34m.\u001b[0m\u001b[0mvalues\u001b[0m\u001b[0;34m(\u001b[0m\u001b[0;34m)\u001b[0m\u001b[0;34m,\u001b[0m\u001b[0;34m\u001b[0m\u001b[0;34m\u001b[0m\u001b[0m\n",
      "\u001b[0;32m<ipython-input-38-bf1a106dc202>\u001b[0m in \u001b[0;36mforward\u001b[0;34m(self, x)\u001b[0m\n\u001b[1;32m     26\u001b[0m         \u001b[0mprint\u001b[0m\u001b[0;34m(\u001b[0m\u001b[0mX\u001b[0m\u001b[0;34m)\u001b[0m\u001b[0;34m\u001b[0m\u001b[0;34m\u001b[0m\u001b[0m\n\u001b[1;32m     27\u001b[0m         \u001b[0mh0\u001b[0m \u001b[0;34m=\u001b[0m \u001b[0mtorch\u001b[0m\u001b[0;34m.\u001b[0m\u001b[0mzeros\u001b[0m\u001b[0;34m(\u001b[0m\u001b[0mself\u001b[0m\u001b[0;34m.\u001b[0m\u001b[0mnum_layers\u001b[0m\u001b[0;34m,\u001b[0m \u001b[0mx\u001b[0m\u001b[0;34m.\u001b[0m\u001b[0msize\u001b[0m\u001b[0;34m(\u001b[0m\u001b[0;36m0\u001b[0m\u001b[0;34m)\u001b[0m\u001b[0;34m,\u001b[0m \u001b[0mself\u001b[0m\u001b[0;34m.\u001b[0m\u001b[0mhidden_size\u001b[0m\u001b[0;34m)\u001b[0m\u001b[0;34m.\u001b[0m\u001b[0mto\u001b[0m\u001b[0;34m(\u001b[0m\u001b[0mdevice\u001b[0m\u001b[0;34m)\u001b[0m\u001b[0;34m\u001b[0m\u001b[0;34m\u001b[0m\u001b[0m\n\u001b[0;32m---> 28\u001b[0;31m         \u001b[0mout\u001b[0m\u001b[0;34m,\u001b[0m \u001b[0m_\u001b[0m \u001b[0;34m=\u001b[0m \u001b[0mself\u001b[0m\u001b[0;34m.\u001b[0m\u001b[0mrnn\u001b[0m\u001b[0;34m(\u001b[0m\u001b[0mx\u001b[0m\u001b[0;34m,\u001b[0m \u001b[0mh0\u001b[0m\u001b[0;34m)\u001b[0m\u001b[0;34m\u001b[0m\u001b[0;34m\u001b[0m\u001b[0m\n\u001b[0m\u001b[1;32m     29\u001b[0m         \u001b[0mout\u001b[0m \u001b[0;34m=\u001b[0m \u001b[0mout\u001b[0m\u001b[0;34m.\u001b[0m\u001b[0mreshape\u001b[0m\u001b[0;34m(\u001b[0m\u001b[0mout\u001b[0m\u001b[0;34m.\u001b[0m\u001b[0msize\u001b[0m\u001b[0;34m(\u001b[0m\u001b[0;36m0\u001b[0m\u001b[0;34m)\u001b[0m\u001b[0;34m,\u001b[0m \u001b[0;34m-\u001b[0m\u001b[0;36m1\u001b[0m\u001b[0;34m)\u001b[0m\u001b[0;34m\u001b[0m\u001b[0;34m\u001b[0m\u001b[0m\n\u001b[1;32m     30\u001b[0m         \u001b[0mout\u001b[0m \u001b[0;34m=\u001b[0m \u001b[0mself\u001b[0m\u001b[0;34m.\u001b[0m\u001b[0mfc\u001b[0m\u001b[0;34m(\u001b[0m\u001b[0mout\u001b[0m\u001b[0;34m)\u001b[0m\u001b[0;34m\u001b[0m\u001b[0;34m\u001b[0m\u001b[0m\n",
      "\u001b[0;32m~/anaconda3/lib/python3.8/site-packages/torch/nn/modules/module.py\u001b[0m in \u001b[0;36m_call_impl\u001b[0;34m(self, *input, **kwargs)\u001b[0m\n\u001b[1;32m    720\u001b[0m             \u001b[0mresult\u001b[0m \u001b[0;34m=\u001b[0m \u001b[0mself\u001b[0m\u001b[0;34m.\u001b[0m\u001b[0m_slow_forward\u001b[0m\u001b[0;34m(\u001b[0m\u001b[0;34m*\u001b[0m\u001b[0minput\u001b[0m\u001b[0;34m,\u001b[0m \u001b[0;34m**\u001b[0m\u001b[0mkwargs\u001b[0m\u001b[0;34m)\u001b[0m\u001b[0;34m\u001b[0m\u001b[0;34m\u001b[0m\u001b[0m\n\u001b[1;32m    721\u001b[0m         \u001b[0;32melse\u001b[0m\u001b[0;34m:\u001b[0m\u001b[0;34m\u001b[0m\u001b[0;34m\u001b[0m\u001b[0m\n\u001b[0;32m--> 722\u001b[0;31m             \u001b[0mresult\u001b[0m \u001b[0;34m=\u001b[0m \u001b[0mself\u001b[0m\u001b[0;34m.\u001b[0m\u001b[0mforward\u001b[0m\u001b[0;34m(\u001b[0m\u001b[0;34m*\u001b[0m\u001b[0minput\u001b[0m\u001b[0;34m,\u001b[0m \u001b[0;34m**\u001b[0m\u001b[0mkwargs\u001b[0m\u001b[0;34m)\u001b[0m\u001b[0;34m\u001b[0m\u001b[0;34m\u001b[0m\u001b[0m\n\u001b[0m\u001b[1;32m    723\u001b[0m         for hook in itertools.chain(\n\u001b[1;32m    724\u001b[0m                 \u001b[0m_global_forward_hooks\u001b[0m\u001b[0;34m.\u001b[0m\u001b[0mvalues\u001b[0m\u001b[0;34m(\u001b[0m\u001b[0;34m)\u001b[0m\u001b[0;34m,\u001b[0m\u001b[0;34m\u001b[0m\u001b[0;34m\u001b[0m\u001b[0m\n",
      "\u001b[0;32m~/anaconda3/lib/python3.8/site-packages/torch/nn/modules/rnn.py\u001b[0m in \u001b[0;36mforward\u001b[0;34m(self, input, hx)\u001b[0m\n\u001b[1;32m    228\u001b[0m             \u001b[0mhx\u001b[0m \u001b[0;34m=\u001b[0m \u001b[0mself\u001b[0m\u001b[0;34m.\u001b[0m\u001b[0mpermute_hidden\u001b[0m\u001b[0;34m(\u001b[0m\u001b[0mhx\u001b[0m\u001b[0;34m,\u001b[0m \u001b[0msorted_indices\u001b[0m\u001b[0;34m)\u001b[0m\u001b[0;34m\u001b[0m\u001b[0;34m\u001b[0m\u001b[0m\n\u001b[1;32m    229\u001b[0m \u001b[0;34m\u001b[0m\u001b[0m\n\u001b[0;32m--> 230\u001b[0;31m         \u001b[0mself\u001b[0m\u001b[0;34m.\u001b[0m\u001b[0mcheck_forward_args\u001b[0m\u001b[0;34m(\u001b[0m\u001b[0minput\u001b[0m\u001b[0;34m,\u001b[0m \u001b[0mhx\u001b[0m\u001b[0;34m,\u001b[0m \u001b[0mbatch_sizes\u001b[0m\u001b[0;34m)\u001b[0m\u001b[0;34m\u001b[0m\u001b[0;34m\u001b[0m\u001b[0m\n\u001b[0m\u001b[1;32m    231\u001b[0m         \u001b[0m_impl\u001b[0m \u001b[0;34m=\u001b[0m \u001b[0m_rnn_impls\u001b[0m\u001b[0;34m[\u001b[0m\u001b[0mself\u001b[0m\u001b[0;34m.\u001b[0m\u001b[0mmode\u001b[0m\u001b[0;34m]\u001b[0m\u001b[0;34m\u001b[0m\u001b[0;34m\u001b[0m\u001b[0m\n\u001b[1;32m    232\u001b[0m         \u001b[0;32mif\u001b[0m \u001b[0mbatch_sizes\u001b[0m \u001b[0;32mis\u001b[0m \u001b[0;32mNone\u001b[0m\u001b[0;34m:\u001b[0m\u001b[0;34m\u001b[0m\u001b[0;34m\u001b[0m\u001b[0m\n",
      "\u001b[0;32m~/anaconda3/lib/python3.8/site-packages/torch/nn/modules/rnn.py\u001b[0m in \u001b[0;36mcheck_forward_args\u001b[0;34m(self, input, hidden, batch_sizes)\u001b[0m\n\u001b[1;32m    196\u001b[0m \u001b[0;34m\u001b[0m\u001b[0m\n\u001b[1;32m    197\u001b[0m     \u001b[0;32mdef\u001b[0m \u001b[0mcheck_forward_args\u001b[0m\u001b[0;34m(\u001b[0m\u001b[0mself\u001b[0m\u001b[0;34m,\u001b[0m \u001b[0minput\u001b[0m\u001b[0;34m:\u001b[0m \u001b[0mTensor\u001b[0m\u001b[0;34m,\u001b[0m \u001b[0mhidden\u001b[0m\u001b[0;34m:\u001b[0m \u001b[0mTensor\u001b[0m\u001b[0;34m,\u001b[0m \u001b[0mbatch_sizes\u001b[0m\u001b[0;34m:\u001b[0m \u001b[0mOptional\u001b[0m\u001b[0;34m[\u001b[0m\u001b[0mTensor\u001b[0m\u001b[0;34m]\u001b[0m\u001b[0;34m)\u001b[0m\u001b[0;34m:\u001b[0m\u001b[0;34m\u001b[0m\u001b[0;34m\u001b[0m\u001b[0m\n\u001b[0;32m--> 198\u001b[0;31m         \u001b[0mself\u001b[0m\u001b[0;34m.\u001b[0m\u001b[0mcheck_input\u001b[0m\u001b[0;34m(\u001b[0m\u001b[0minput\u001b[0m\u001b[0;34m,\u001b[0m \u001b[0mbatch_sizes\u001b[0m\u001b[0;34m)\u001b[0m\u001b[0;34m\u001b[0m\u001b[0;34m\u001b[0m\u001b[0m\n\u001b[0m\u001b[1;32m    199\u001b[0m         \u001b[0mexpected_hidden_size\u001b[0m \u001b[0;34m=\u001b[0m \u001b[0mself\u001b[0m\u001b[0;34m.\u001b[0m\u001b[0mget_expected_hidden_size\u001b[0m\u001b[0;34m(\u001b[0m\u001b[0minput\u001b[0m\u001b[0;34m,\u001b[0m \u001b[0mbatch_sizes\u001b[0m\u001b[0;34m)\u001b[0m\u001b[0;34m\u001b[0m\u001b[0;34m\u001b[0m\u001b[0m\n\u001b[1;32m    200\u001b[0m \u001b[0;34m\u001b[0m\u001b[0m\n",
      "\u001b[0;32m~/anaconda3/lib/python3.8/site-packages/torch/nn/modules/rnn.py\u001b[0m in \u001b[0;36mcheck_input\u001b[0;34m(self, input, batch_sizes)\u001b[0m\n\u001b[1;32m    171\u001b[0m         \u001b[0mexpected_input_dim\u001b[0m \u001b[0;34m=\u001b[0m \u001b[0;36m2\u001b[0m \u001b[0;32mif\u001b[0m \u001b[0mbatch_sizes\u001b[0m \u001b[0;32mis\u001b[0m \u001b[0;32mnot\u001b[0m \u001b[0;32mNone\u001b[0m \u001b[0;32melse\u001b[0m \u001b[0;36m3\u001b[0m\u001b[0;34m\u001b[0m\u001b[0;34m\u001b[0m\u001b[0m\n\u001b[1;32m    172\u001b[0m         \u001b[0;32mif\u001b[0m \u001b[0minput\u001b[0m\u001b[0;34m.\u001b[0m\u001b[0mdim\u001b[0m\u001b[0;34m(\u001b[0m\u001b[0;34m)\u001b[0m \u001b[0;34m!=\u001b[0m \u001b[0mexpected_input_dim\u001b[0m\u001b[0;34m:\u001b[0m\u001b[0;34m\u001b[0m\u001b[0;34m\u001b[0m\u001b[0m\n\u001b[0;32m--> 173\u001b[0;31m             raise RuntimeError(\n\u001b[0m\u001b[1;32m    174\u001b[0m                 'input must have {} dimensions, got {}'.format(\n\u001b[1;32m    175\u001b[0m                     expected_input_dim, input.dim()))\n",
      "\u001b[0;31mRuntimeError\u001b[0m: input must have 3 dimensions, got 2"
     ]
    }
   ],
   "source": [
    "for epoch in range(num_epochs):\n",
    "    \n",
    "    scores = model(X_train)\n",
    "    loss = critirion(scores, y_train)\n",
    "    \n",
    "    optimizer.zero_grad()\n",
    "    loss.backward()\n",
    "    \n",
    "    optimizer.step()\n",
    "    "
   ]
  },
  {
   "cell_type": "code",
   "execution_count": null,
   "metadata": {},
   "outputs": [],
   "source": []
  }
 ],
 "metadata": {
  "colab": {
   "authorship_tag": "ABX9TyNMhAC8ysjPg00LWD7RBWzH",
   "collapsed_sections": [],
   "mount_file_id": "10MwWX0udSk7NUJYywb5z7HEuOu3YntjP",
   "name": "first_try.ipynb",
   "provenance": [],
   "toc_visible": true
  },
  "kernelspec": {
   "display_name": "Python 3",
   "language": "python",
   "name": "python3"
  },
  "language_info": {
   "codemirror_mode": {
    "name": "ipython",
    "version": 3
   },
   "file_extension": ".py",
   "mimetype": "text/x-python",
   "name": "python",
   "nbconvert_exporter": "python",
   "pygments_lexer": "ipython3",
   "version": "3.8.3"
  }
 },
 "nbformat": 4,
 "nbformat_minor": 1
}
